{
 "cells": [
  {
   "cell_type": "markdown",
   "metadata": {},
   "source": [
    "<img src=\"http://imgur.com/1ZcRyrc.png\" style=\"float: left; margin: 20px; height: 55px\">\n",
    "\n",
    "# Webscraping OpenTable with Selenium: Guided Lab\n",
    "\n",
    "\n",
    "---\n",
    "\n",
    "> *Note: this lab is intended to be instructor guided.*\n",
    "\n",
    "\n",
    "In today's codealong lab, we will build a scraper using [urlib](https://docs.python.org/3/library/urllib.request.html#module-urllib.request) and [BeautifulSoup](https://www.crummy.com/software/BeautifulSoup/bs4/doc/). We will remedy some of the pitfalls of automated scraping by using a \"headless\" browser called Selenium.\n",
    "\n",
    "You will be scraping OpenTable's DC listings. We're interested in knowing the restaurant's **name, location, price, cuisine, rating, and reviews.**\n",
    "\n",
    "OpenTable provides all of this information on this given page: [Open table listings](https://www.opentable.com/chicago-restaurant-listings)"
   ]
  },
  {
   "cell_type": "markdown",
   "metadata": {},
   "source": [
    "## 1. Inspect the elements of this page to assure we can find each of the bits of information in which we're interested."
   ]
  },
  {
   "cell_type": "markdown",
   "metadata": {},
   "source": [
    "## 2. Use `requests` and `BeautifulSoup` to read the contents of the HTML."
   ]
  },
  {
   "cell_type": "code",
   "execution_count": 11,
   "metadata": {},
   "outputs": [],
   "source": [
    "import pandas as pd\n",
    "import numpy as np\n",
    "import requests\n",
    "from bs4 import BeautifulSoup\n",
    "from selenium import webdriver\n",
    "from time import sleep\n",
    "\n",
    "url = 'https://www.opentable.com/washington-dc-restaurant-listings'"
   ]
  },
  {
   "cell_type": "code",
   "execution_count": 12,
   "metadata": {},
   "outputs": [],
   "source": [
    "# set the url we want to visit\n",
    "res = requests.get(url)"
   ]
  },
  {
   "cell_type": "markdown",
   "metadata": {},
   "source": [
    "## 3. Use Beautiful Soup to convert the raw HTML into a soup object."
   ]
  },
  {
   "cell_type": "code",
   "execution_count": 13,
   "metadata": {
    "jupyter": {
     "outputs_hidden": true
    },
    "scrolled": true
   },
   "outputs": [
    {
     "ename": "FeatureNotFound",
     "evalue": "Couldn't find a tree builder with the features you requested: lxml. Do you need to install a parser library?",
     "output_type": "error",
     "traceback": [
      "\u001b[0;31m---------------------------------------------------------------------------\u001b[0m",
      "\u001b[0;31mFeatureNotFound\u001b[0m                           Traceback (most recent call last)",
      "\u001b[0;32m<ipython-input-13-90262f93cbef>\u001b[0m in \u001b[0;36m<module>\u001b[0;34m\u001b[0m\n\u001b[0;32m----> 1\u001b[0;31m \u001b[0msoup\u001b[0m \u001b[0;34m=\u001b[0m \u001b[0mBeautifulSoup\u001b[0m\u001b[0;34m(\u001b[0m\u001b[0mres\u001b[0m\u001b[0;34m.\u001b[0m\u001b[0mcontent\u001b[0m\u001b[0;34m,\u001b[0m \u001b[0;34m'lxml'\u001b[0m\u001b[0;34m)\u001b[0m\u001b[0;34m\u001b[0m\u001b[0;34m\u001b[0m\u001b[0m\n\u001b[0m\u001b[1;32m      2\u001b[0m \u001b[0msoup\u001b[0m\u001b[0;34m\u001b[0m\u001b[0;34m\u001b[0m\u001b[0m\n",
      "\u001b[0;32m~/opt/anaconda3/envs/work/lib/python3.8/site-packages/bs4/__init__.py\u001b[0m in \u001b[0;36m__init__\u001b[0;34m(self, markup, features, builder, parse_only, from_encoding, exclude_encodings, element_classes, **kwargs)\u001b[0m\n\u001b[1;32m    240\u001b[0m             \u001b[0mbuilder_class\u001b[0m \u001b[0;34m=\u001b[0m \u001b[0mbuilder_registry\u001b[0m\u001b[0;34m.\u001b[0m\u001b[0mlookup\u001b[0m\u001b[0;34m(\u001b[0m\u001b[0;34m*\u001b[0m\u001b[0mfeatures\u001b[0m\u001b[0;34m)\u001b[0m\u001b[0;34m\u001b[0m\u001b[0;34m\u001b[0m\u001b[0m\n\u001b[1;32m    241\u001b[0m             \u001b[0;32mif\u001b[0m \u001b[0mbuilder_class\u001b[0m \u001b[0;32mis\u001b[0m \u001b[0;32mNone\u001b[0m\u001b[0;34m:\u001b[0m\u001b[0;34m\u001b[0m\u001b[0;34m\u001b[0m\u001b[0m\n\u001b[0;32m--> 242\u001b[0;31m                 raise FeatureNotFound(\n\u001b[0m\u001b[1;32m    243\u001b[0m                     \u001b[0;34m\"Couldn't find a tree builder with the features you \"\u001b[0m\u001b[0;34m\u001b[0m\u001b[0;34m\u001b[0m\u001b[0m\n\u001b[1;32m    244\u001b[0m                     \u001b[0;34m\"requested: %s. Do you need to install a parser library?\"\u001b[0m\u001b[0;34m\u001b[0m\u001b[0;34m\u001b[0m\u001b[0m\n",
      "\u001b[0;31mFeatureNotFound\u001b[0m: Couldn't find a tree builder with the features you requested: lxml. Do you need to install a parser library?"
     ]
    }
   ],
   "source": [
    "soup = BeautifulSoup(res.content, 'lxml')\n",
    "soup"
   ]
  },
  {
   "cell_type": "markdown",
   "metadata": {},
   "source": [
    "## 4. Extract the name of each restaurant.\n",
    "\n",
    "Let's first find each restaurant name listed on the page we've loaded. How do we find the page location of the restaurant? \n",
    "\n",
    "> *Hint: we need to know where in the **html** the restaurant element is housed.*\n",
    "\n",
    "### 4.A See if you can find the restaurant name on the page. Keep in mind there are many restaurants loaded on the page."
   ]
  },
  {
   "cell_type": "code",
   "execution_count": 17,
   "metadata": {},
   "outputs": [
    {
     "name": "stdout",
     "output_type": "stream",
     "text": [
      "Hesters\n",
      "1243 Steuber\n",
      "234 Halvorson\n",
      "Jeffry Dibbert\n",
      "Katlyn Jast\n",
      "Littel\n",
      "Qui\n",
      "Libero\n",
      "Shayne Cliff\n",
      "Consequatur Place\n"
     ]
    }
   ],
   "source": [
    "# print(soup.prettify())\n",
    "\n",
    "for i in soup.find_all('span', {'class': 'rest-row-name-text'})[:10]:\n",
    "    print(i.text)"
   ]
  },
  {
   "cell_type": "markdown",
   "metadata": {},
   "source": [
    "### 4.B See any issues here?\n",
    "\n",
    "**ANSWER**: Not enough restaurants, wrong names (are these even real?), definitely don't match my first result."
   ]
  },
  {
   "cell_type": "markdown",
   "metadata": {},
   "source": [
    "## 5. Enter Selenium - resolve the javascript issue using the driver and find the bookings.\n",
    "\n",
    "What we can do in this case is:\n",
    "1. Request that the page load\n",
    "2. Wait some amount of time\n",
    "3. Grab the source html from the page \n",
    "\n",
    "Because the page should believe I'm visiting from a live connection on a browser client, the JavaScript should render to be a part of the page source. I can then grab the page source.\n",
    "\n",
    "**Once you have the HTML with the javascript rendered, repeat the processes above.**"
   ]
  },
  {
   "cell_type": "code",
   "execution_count": 18,
   "metadata": {},
   "outputs": [],
   "source": [
    "from selenium import webdriver\n",
    "\n",
    "# uncomment below for macos\n",
    "driver = webdriver.Chrome(executable_path=\"./chromedriver/macos/chromedriver\") \n",
    "\n",
    "# uncomment below for windows \n",
    "#  driver = webdriver.Chrome(executable_path=\"./chromedriver/windows/chromedriver.exe\")"
   ]
  },
  {
   "cell_type": "code",
   "execution_count": 19,
   "metadata": {},
   "outputs": [],
   "source": [
    "driver.get(url)\n",
    "\n",
    "soup = BeautifulSoup(driver.page_source, 'lxml')"
   ]
  },
  {
   "cell_type": "markdown",
   "metadata": {},
   "source": [
    "## 6. Repeat the process above, and let's grab location as well "
   ]
  },
  {
   "cell_type": "code",
   "execution_count": 20,
   "metadata": {},
   "outputs": [
    {
     "name": "stdout",
     "output_type": "stream",
     "text": [
      "Ruffino's - Arlington in Arlington.\n",
      "BlackSalt in Palisades Northwest.\n",
      "Ambar - Arlington in Arlington.\n",
      "Et Voila in Palisades Northwest.\n",
      "SER in Arlington.\n"
     ]
    }
   ],
   "source": [
    "soup = BeautifulSoup(driver.page_source, 'lxml')\n",
    "\n",
    "names = []\n",
    "for name in soup.find_all('span',{'class':'rest-row-name-text'})[:5]:\n",
    "    names.append(name.text)\n",
    "\n",
    "locs = []\n",
    "for location in soup.find_all('span', {'class': 'rest-row-meta--location rest-row-meta-text sfx1388addContent'})[:5]:\n",
    "    locs.append(location.text)\n",
    "\n",
    "for name, location in zip(names, locs):\n",
    "    print(f'{name} in {location}.')"
   ]
  },
  {
   "cell_type": "markdown",
   "metadata": {},
   "source": [
    "## 7. Get the price (dollar signs) for each restaurant.\n",
    "\n",
    "The price is number of dollar signs on a scale of one to four for each restaurant. We'll follow the same process."
   ]
  },
  {
   "cell_type": "code",
   "execution_count": 21,
   "metadata": {},
   "outputs": [
    {
     "name": "stdout",
     "output_type": "stream",
     "text": [
      "2\n",
      "3\n",
      "2\n",
      "3\n",
      "2\n"
     ]
    }
   ],
   "source": [
    "# A:\n",
    "for d in soup.find_all('i', {'class': 'pricing--the-price'})[:5]:\n",
    "    print(len(d.text.replace(' ','')))"
   ]
  },
  {
   "cell_type": "markdown",
   "metadata": {},
   "source": [
    "## 8. Get the name, location, price, cuisine, rating, and reviews for reach restaurant.\n",
    "\n",
    "Let's go through this together a bit."
   ]
  },
  {
   "cell_type": "code",
   "execution_count": 22,
   "metadata": {},
   "outputs": [
    {
     "data": {
      "text/plain": [
       "'4.1 stars out of 5'"
      ]
     },
     "execution_count": 22,
     "metadata": {},
     "output_type": "execute_result"
    }
   ],
   "source": [
    "soup.find_all('div', {'class': 'star-rating-score'})[0].attrs['aria-label']"
   ]
  },
  {
   "cell_type": "code",
   "execution_count": 23,
   "metadata": {},
   "outputs": [
    {
     "data": {
      "text/html": [
       "<div>\n",
       "<style scoped>\n",
       "    .dataframe tbody tr th:only-of-type {\n",
       "        vertical-align: middle;\n",
       "    }\n",
       "\n",
       "    .dataframe tbody tr th {\n",
       "        vertical-align: top;\n",
       "    }\n",
       "\n",
       "    .dataframe thead th {\n",
       "        text-align: right;\n",
       "    }\n",
       "</style>\n",
       "<table border=\"1\" class=\"dataframe\">\n",
       "  <thead>\n",
       "    <tr style=\"text-align: right;\">\n",
       "      <th></th>\n",
       "      <th>name</th>\n",
       "      <th>location</th>\n",
       "      <th>price</th>\n",
       "      <th>cuisine</th>\n",
       "      <th>rating</th>\n",
       "      <th>reviews</th>\n",
       "    </tr>\n",
       "  </thead>\n",
       "  <tbody>\n",
       "    <tr>\n",
       "      <th>0</th>\n",
       "      <td>Ruffino's - Arlington</td>\n",
       "      <td>Arlington</td>\n",
       "      <td>2</td>\n",
       "      <td>Italian</td>\n",
       "      <td>4.1</td>\n",
       "      <td>131</td>\n",
       "    </tr>\n",
       "    <tr>\n",
       "      <th>1</th>\n",
       "      <td>BlackSalt</td>\n",
       "      <td>Palisades Northwest</td>\n",
       "      <td>3</td>\n",
       "      <td>Seafood</td>\n",
       "      <td>4.7</td>\n",
       "      <td>6009</td>\n",
       "    </tr>\n",
       "    <tr>\n",
       "      <th>2</th>\n",
       "      <td>Ambar - Arlington</td>\n",
       "      <td>Arlington</td>\n",
       "      <td>2</td>\n",
       "      <td>Tapas / Small Plates</td>\n",
       "      <td>4.6</td>\n",
       "      <td>2057</td>\n",
       "    </tr>\n",
       "    <tr>\n",
       "      <th>3</th>\n",
       "      <td>Et Voila</td>\n",
       "      <td>Palisades Northwest</td>\n",
       "      <td>3</td>\n",
       "      <td>French</td>\n",
       "      <td>4.7</td>\n",
       "      <td>1464</td>\n",
       "    </tr>\n",
       "    <tr>\n",
       "      <th>4</th>\n",
       "      <td>SER</td>\n",
       "      <td>Arlington</td>\n",
       "      <td>2</td>\n",
       "      <td>Spanish</td>\n",
       "      <td>4.4</td>\n",
       "      <td>1053</td>\n",
       "    </tr>\n",
       "  </tbody>\n",
       "</table>\n",
       "</div>"
      ],
      "text/plain": [
       "                    name             location  price               cuisine  \\\n",
       "0  Ruffino's - Arlington            Arlington      2               Italian   \n",
       "1              BlackSalt  Palisades Northwest      3               Seafood   \n",
       "2      Ambar - Arlington            Arlington      2  Tapas / Small Plates   \n",
       "3               Et Voila  Palisades Northwest      3                French   \n",
       "4                    SER            Arlington      2               Spanish   \n",
       "\n",
       "   rating  reviews  \n",
       "0     4.1      131  \n",
       "1     4.7     6009  \n",
       "2     4.6     2057  \n",
       "3     4.7     1464  \n",
       "4     4.4     1053  "
      ]
     },
     "execution_count": 23,
     "metadata": {},
     "output_type": "execute_result"
    }
   ],
   "source": [
    "# get the name\n",
    "l_name = []\n",
    "for i in soup.find_all('span', {'class': 'rest-row-name-text'}):\n",
    "    l_name.append(i.text)\n",
    "\n",
    "# get the location\n",
    "l_loc = []\n",
    "for i in soup.find_all('span',{'class':'rest-row-meta--location rest-row-meta-text sfx1388addContent'}):\n",
    "    l_loc.append(i.text)\n",
    "\n",
    "# get the pricing\n",
    "l_pr = []\n",
    "for d in soup.find_all('i', {'class': 'pricing--the-price'}):\n",
    "    l_pr.append(len(d.text.replace(' ','')))\n",
    "\n",
    "# get the cuisine type\n",
    "l_cuisine = []\n",
    "for c in soup.find_all('span', {'class': 'rest-row-meta--cuisine rest-row-meta-text sfx1388addContent'}):\n",
    "    l_cuisine.append(c.text)\n",
    "    \n",
    "# get the rating out of 5\n",
    "l_rating = []\n",
    "for i in soup.find_all('div', {'class': 'star-rating-score'}):\n",
    "    l_rating.append(float(i.attrs['aria-label'].split(' ')[0]))\n",
    "    \n",
    "# get the number of reviews\n",
    "l_reviews = []\n",
    "for i in soup.find_all('a',{'class':'review-link'}):\n",
    "    l_reviews.append(int(i.find('span').text.strip('()')))\n",
    "\n",
    "# store it all in a dictionary of lists and make it into a dataframe\n",
    "info_dict = {'name': l_name,\n",
    "             'location': l_loc,\n",
    "             'price': l_pr,\n",
    "             'cuisine': l_cuisine,\n",
    "             'rating': l_rating,\n",
    "             'reviews': l_reviews,\n",
    "            }\n",
    "\n",
    "pd.DataFrame(info_dict).head()"
   ]
  },
  {
   "cell_type": "markdown",
   "metadata": {},
   "source": [
    "### 9. Can we get all of the items we want from the page in a single `find_all`?\n",
    "\n",
    "To be most efficient, we want to only do a single loop for each entry on the page. That means we want to find what element all of other other elements (name, location, price, bookings) is housed within. Where on the page is each entry located?"
   ]
  },
  {
   "cell_type": "code",
   "execution_count": 26,
   "metadata": {},
   "outputs": [
    {
     "name": "stdout",
     "output_type": "stream",
     "text": [
      "<div class=\"rest-row-info\">\n",
      " <div class=\"rest-row-header-container\">\n",
      "  <div class=\"rest-row-header\">\n",
      "   <a class=\"rest-row-name rest-name\" href=\"https://www.opentable.com/ruffinos-arlington?corrid=92a8f9e4-e782-41b8-8df4-51e861d1aac6\" onclick=\"OT.BestAnalytics.logRestaurantVisit(66715)\" target=\"_blank\">\n",
      "    <span class=\"rest-row-name-text\">\n",
      "     Ruffino's - Arlington\n",
      "    </span>\n",
      "   </a>\n",
      "  </div>\n",
      " </div>\n",
      " <div class=\"rest-row-meta rest-row-meta-grid flex-row-justify\">\n",
      "  <div class=\"flex-row-justify\">\n",
      "   <div class=\"rest-row-review\">\n",
      "    <div class=\"star-rating review-container xsmall-medium\">\n",
      "     <div aria-label=\"4.1 stars out of 5\" class=\"star-rating-score\" role=\"img\">\n",
      "      <span aria-hidden=\"true\" class=\"star\">\n",
      "       <img src=\"//media.otstatic.com/search-result-node/images/compressed/star-full.svg\"/>\n",
      "      </span>\n",
      "      <span aria-hidden=\"true\" class=\"star\">\n",
      "       <img src=\"//media.otstatic.com/search-result-node/images/compressed/star-full.svg\"/>\n",
      "      </span>\n",
      "      <span aria-hidden=\"true\" class=\"star\">\n",
      "       <img src=\"//media.otstatic.com/search-result-node/images/compressed/star-full.svg\"/>\n",
      "      </span>\n",
      "      <span aria-hidden=\"true\" class=\"star\">\n",
      "       <img src=\"//media.otstatic.com/search-result-node/images/compressed/star-full.svg\"/>\n",
      "      </span>\n",
      "      <span aria-hidden=\"true\" class=\"star\">\n",
      "       <img src=\"//media.otstatic.com/search-result-node/images/compressed/star-empty.svg\"/>\n",
      "      </span>\n",
      "     </div>\n",
      "     <div class=\"review-rating-text xsmall-bold\">\n",
      "      <span>\n",
      "       Excellent\n",
      "      </span>\n",
      "     </div>\n",
      "     <a class=\"review-link\" href=\"https://www.opentable.com/ruffinos-arlington?corrid=92a8f9e4-e782-41b8-8df4-51e861d1aac6#reviews\" target=\"_blank\">\n",
      "      <span class=\"underline-hover\">\n",
      "       (131)\n",
      "      </span>\n",
      "      <span class=\"screen-reader\">\n",
      "       Review - Ruffino's - Arlington\n",
      "      </span>\n",
      "     </a>\n",
      "    </div>\n",
      "   </div>\n",
      "  </div>\n",
      " </div>\n",
      " <div class=\"rest-row-meta rest-row-meta-grid flex-row-justify sfx1388flexInline\">\n",
      "  <span class=\"rest-row-meta--cuisine rest-row-meta-text\">\n",
      "   <div class=\"rest-row-pricing\">\n",
      "    <i class=\"pricing--the-price\">\n",
      "     $    $\n",
      "    </i>\n",
      "    <span class=\"pricing--not-the-price\">\n",
      "     $    $\n",
      "    </span>\n",
      "   </div>\n",
      "  </span>\n",
      "  <span class=\"rest-row-meta--cuisine rest-row-meta-text sfx1388addContent\">\n",
      "   Italian\n",
      "  </span>\n",
      "  <span class=\"rest-row-meta--location rest-row-meta-text sfx1388addContent\">\n",
      "   Arlington\n",
      "  </span>\n",
      " </div>\n",
      " <div class=\"message-alerts\">\n",
      " </div>\n",
      " <div class=\"rest-row-times-cont\">\n",
      "  <a class=\"button minimal\" href=\"/ruffinos-arlington?corrid=92a8f9e4-e782-41b8-8df4-51e861d1aac6\">\n",
      "   Find next available\n",
      "  </a>\n",
      "  <p class=\"not-available-message\">\n",
      "   Due to COVID-19, restaurant availability may be restricted in certain areas.\n",
      "  </p>\n",
      " </div>\n",
      "</div>\n",
      "\n"
     ]
    }
   ],
   "source": [
    "# A:\n",
    "print(soup.find_all('div', {'class': 'rest-row-info'})[0].prettify())"
   ]
  },
  {
   "cell_type": "code",
   "execution_count": 27,
   "metadata": {},
   "outputs": [
    {
     "data": {
      "text/plain": [
       "0"
      ]
     },
     "execution_count": 27,
     "metadata": {},
     "output_type": "execute_result"
    }
   ],
   "source": [
    "# initialize dataframe\n",
    "df = pd.DataFrame(columns=['name', 'location', 'price', 'cuisine','rating','reviews'])\n",
    "len(df)"
   ]
  },
  {
   "cell_type": "code",
   "execution_count": 28,
   "metadata": {},
   "outputs": [
    {
     "data": {
      "text/html": [
       "<div>\n",
       "<style scoped>\n",
       "    .dataframe tbody tr th:only-of-type {\n",
       "        vertical-align: middle;\n",
       "    }\n",
       "\n",
       "    .dataframe tbody tr th {\n",
       "        vertical-align: top;\n",
       "    }\n",
       "\n",
       "    .dataframe thead th {\n",
       "        text-align: right;\n",
       "    }\n",
       "</style>\n",
       "<table border=\"1\" class=\"dataframe\">\n",
       "  <thead>\n",
       "    <tr style=\"text-align: right;\">\n",
       "      <th></th>\n",
       "      <th>name</th>\n",
       "      <th>location</th>\n",
       "      <th>price</th>\n",
       "      <th>cuisine</th>\n",
       "      <th>rating</th>\n",
       "      <th>reviews</th>\n",
       "    </tr>\n",
       "  </thead>\n",
       "  <tbody>\n",
       "    <tr>\n",
       "      <th>0</th>\n",
       "      <td>Ruffino's - Arlington</td>\n",
       "      <td>Arlington</td>\n",
       "      <td>2</td>\n",
       "      <td>Italian</td>\n",
       "      <td>4.1</td>\n",
       "      <td>131</td>\n",
       "    </tr>\n",
       "    <tr>\n",
       "      <th>1</th>\n",
       "      <td>BlackSalt</td>\n",
       "      <td>Palisades Northwest</td>\n",
       "      <td>3</td>\n",
       "      <td>Seafood</td>\n",
       "      <td>4.7</td>\n",
       "      <td>6009</td>\n",
       "    </tr>\n",
       "    <tr>\n",
       "      <th>2</th>\n",
       "      <td>Ambar - Arlington</td>\n",
       "      <td>Arlington</td>\n",
       "      <td>2</td>\n",
       "      <td>Tapas / Small Plates</td>\n",
       "      <td>4.6</td>\n",
       "      <td>2057</td>\n",
       "    </tr>\n",
       "    <tr>\n",
       "      <th>3</th>\n",
       "      <td>Et Voila</td>\n",
       "      <td>Palisades Northwest</td>\n",
       "      <td>3</td>\n",
       "      <td>French</td>\n",
       "      <td>4.7</td>\n",
       "      <td>1464</td>\n",
       "    </tr>\n",
       "    <tr>\n",
       "      <th>4</th>\n",
       "      <td>SER</td>\n",
       "      <td>Arlington</td>\n",
       "      <td>2</td>\n",
       "      <td>Spanish</td>\n",
       "      <td>4.4</td>\n",
       "      <td>1053</td>\n",
       "    </tr>\n",
       "  </tbody>\n",
       "</table>\n",
       "</div>"
      ],
      "text/plain": [
       "                    name             location price               cuisine  \\\n",
       "0  Ruffino's - Arlington            Arlington     2               Italian   \n",
       "1              BlackSalt  Palisades Northwest     3               Seafood   \n",
       "2      Ambar - Arlington            Arlington     2  Tapas / Small Plates   \n",
       "3               Et Voila  Palisades Northwest     3                French   \n",
       "4                    SER            Arlington     2               Spanish   \n",
       "\n",
       "  rating reviews  \n",
       "0    4.1     131  \n",
       "1    4.7    6009  \n",
       "2    4.6    2057  \n",
       "3    4.7    1464  \n",
       "4    4.4    1053  "
      ]
     },
     "execution_count": 28,
     "metadata": {},
     "output_type": "execute_result"
    }
   ],
   "source": [
    "df = pd.DataFrame(columns=['name', 'location', 'price', 'cuisine','rating','reviews'])\n",
    "\n",
    "# one big for loop!\n",
    "for row in soup.find_all('div', {'class': 'rest-row-info'}):\n",
    "    name = row.find('span', {'class':'rest-row-name-text'}).text\n",
    "    loc = row.find('span',{'class':'rest-row-meta--location rest-row-meta-text sfx1388addContent'}).text\n",
    "    price = int(row.find('i', {'class':'pricing--the-price'}).text.count('$'))\n",
    "    cuisine = row.find('span', {'class':'rest-row-meta--cuisine rest-row-meta-text sfx1388addContent'}).text\n",
    "    try:\n",
    "        rating = row.find('div',{'class':'star-rating-score'}).attrs['aria-label'].rsplit('s')[0].strip()\n",
    "    except:\n",
    "        rating = 0\n",
    "    try:\n",
    "        reviews = row.find('a',{'class':'review-link'}).find('span').text.strip('()')\n",
    "    except:\n",
    "        reviews = 0\n",
    "    df.loc[len(df)] = [name, loc, price, cuisine, rating, reviews]\n",
    "    \n",
    "\n",
    "df.head()"
   ]
  },
  {
   "cell_type": "markdown",
   "metadata": {},
   "source": [
    "## 10. Does every single entry have each element we want?"
   ]
  },
  {
   "cell_type": "markdown",
   "metadata": {},
   "source": [
    "**ANSWER**: Sure looks like it."
   ]
  },
  {
   "cell_type": "markdown",
   "metadata": {},
   "source": [
    "## BONUS\n",
    "\n",
    "## 11. Putting it all together in a function.\n",
    "\n",
    "**Loop through each entry. For each entry:**\n",
    "1. Grab the relevant information we want (name, location, price, bookings). \n",
    "2. Produce a dataframe with the columns \"name\",\"location\",\"price\",\"bookings\" that contains the 100 entries we would like."
   ]
  },
  {
   "cell_type": "code",
   "execution_count": 29,
   "metadata": {},
   "outputs": [],
   "source": [
    "def restaurant_grabber(soup, df):\n",
    "    for row in soup.find_all('div', {'class': 'rest-row-info'}):\n",
    "        name = row.find('span', {'class':'rest-row-name-text'}).text\n",
    "        loc = row.find('span',{'class':'rest-row-meta--location rest-row-meta-text sfx1388addContent'}).text\n",
    "        price = int(row.find('i', {'class':'pricing--the-price'}).text.count('$'))\n",
    "        cuisine = row.find('span', {'class':'rest-row-meta--cuisine rest-row-meta-text sfx1388addContent'}).text\n",
    "        try:\n",
    "            rating = row.find('div',{'class':'star-rating-score'}).attrs['aria-label'].rsplit('s')[0].strip()\n",
    "        except:\n",
    "            rating = 0\n",
    "        try:\n",
    "            reviews = row.find('a',{'class':'review-link'}).find('span').text.strip('()')\n",
    "        except:\n",
    "            reviews = 0\n",
    "        df.loc[len(df)] = [name, loc, price, cuisine, rating, reviews]"
   ]
  },
  {
   "cell_type": "markdown",
   "metadata": {},
   "source": [
    "## 12. Use selenium to loop through at least 5 pages and grab that information as well. "
   ]
  },
  {
   "cell_type": "code",
   "execution_count": 30,
   "metadata": {},
   "outputs": [
    {
     "data": {
      "text/html": [
       "<div>\n",
       "<style scoped>\n",
       "    .dataframe tbody tr th:only-of-type {\n",
       "        vertical-align: middle;\n",
       "    }\n",
       "\n",
       "    .dataframe tbody tr th {\n",
       "        vertical-align: top;\n",
       "    }\n",
       "\n",
       "    .dataframe thead th {\n",
       "        text-align: right;\n",
       "    }\n",
       "</style>\n",
       "<table border=\"1\" class=\"dataframe\">\n",
       "  <thead>\n",
       "    <tr style=\"text-align: right;\">\n",
       "      <th></th>\n",
       "      <th>name</th>\n",
       "      <th>location</th>\n",
       "      <th>price</th>\n",
       "      <th>cuisine</th>\n",
       "      <th>rating</th>\n",
       "      <th>reviews</th>\n",
       "    </tr>\n",
       "  </thead>\n",
       "  <tbody>\n",
       "    <tr>\n",
       "      <th>0</th>\n",
       "      <td>Boka</td>\n",
       "      <td>Lincoln Park</td>\n",
       "      <td>3</td>\n",
       "      <td>Contemporary American</td>\n",
       "      <td>4.8</td>\n",
       "      <td>5089</td>\n",
       "    </tr>\n",
       "    <tr>\n",
       "      <th>1</th>\n",
       "      <td>Aba</td>\n",
       "      <td>West Loop</td>\n",
       "      <td>3</td>\n",
       "      <td>Mediterranean</td>\n",
       "      <td>4.8</td>\n",
       "      <td>1404</td>\n",
       "    </tr>\n",
       "    <tr>\n",
       "      <th>2</th>\n",
       "      <td>Café Ba-Ba-Reeba</td>\n",
       "      <td>Lincoln Park</td>\n",
       "      <td>2</td>\n",
       "      <td>Tapas / Small Plates</td>\n",
       "      <td>4.8</td>\n",
       "      <td>6435</td>\n",
       "    </tr>\n",
       "    <tr>\n",
       "      <th>3</th>\n",
       "      <td>Summer House Santa Monica</td>\n",
       "      <td>Lincoln Park</td>\n",
       "      <td>2</td>\n",
       "      <td>American</td>\n",
       "      <td>4.7</td>\n",
       "      <td>4013</td>\n",
       "    </tr>\n",
       "    <tr>\n",
       "      <th>4</th>\n",
       "      <td>Uncle Julio's - Chicago</td>\n",
       "      <td>Lincoln Park</td>\n",
       "      <td>2</td>\n",
       "      <td>Mexican</td>\n",
       "      <td>4.4</td>\n",
       "      <td>645</td>\n",
       "    </tr>\n",
       "  </tbody>\n",
       "</table>\n",
       "</div>"
      ],
      "text/plain": [
       "                        name      location price                cuisine  \\\n",
       "0                       Boka  Lincoln Park     3  Contemporary American   \n",
       "1                        Aba     West Loop     3          Mediterranean   \n",
       "2           Café Ba-Ba-Reeba  Lincoln Park     2   Tapas / Small Plates   \n",
       "3  Summer House Santa Monica  Lincoln Park     2               American   \n",
       "4    Uncle Julio's - Chicago  Lincoln Park     2                Mexican   \n",
       "\n",
       "  rating reviews  \n",
       "0    4.8    5089  \n",
       "1    4.8    1404  \n",
       "2    4.8    6435  \n",
       "3    4.7    4013  \n",
       "4    4.4     645  "
      ]
     },
     "execution_count": 30,
     "metadata": {},
     "output_type": "execute_result"
    }
   ],
   "source": [
    "df_chi = pd.DataFrame(columns=['name', 'location', 'price', 'cuisine','rating','reviews'])\n",
    "url = 'https://www.opentable.com/chicago-restaurant-listings'\n",
    "driver = webdriver.Chrome(executable_path=\"./chromedriver/macos/chromedriver\")\n",
    "driver.get(url)\n",
    "\n",
    "\n",
    "for _ in range(6):\n",
    "    sleep(5)\n",
    "    soup_object = BeautifulSoup(driver.page_source, 'lxml')\n",
    "    restaurant_grabber(soup_object, df_chi)\n",
    "    next_button = driver.find_element_by_link_text('Next')\n",
    "    next_button.click()\n",
    "\n",
    "driver.close()\n",
    "\n",
    "df_chi.head()"
   ]
  },
  {
   "cell_type": "code",
   "execution_count": 16,
   "metadata": {},
   "outputs": [
    {
     "data": {
      "text/html": [
       "<div>\n",
       "<style scoped>\n",
       "    .dataframe tbody tr th:only-of-type {\n",
       "        vertical-align: middle;\n",
       "    }\n",
       "\n",
       "    .dataframe tbody tr th {\n",
       "        vertical-align: top;\n",
       "    }\n",
       "\n",
       "    .dataframe thead th {\n",
       "        text-align: right;\n",
       "    }\n",
       "</style>\n",
       "<table border=\"1\" class=\"dataframe\">\n",
       "  <thead>\n",
       "    <tr style=\"text-align: right;\">\n",
       "      <th></th>\n",
       "      <th>name</th>\n",
       "      <th>location</th>\n",
       "      <th>price</th>\n",
       "      <th>cuisine</th>\n",
       "      <th>rating</th>\n",
       "      <th>reviews</th>\n",
       "    </tr>\n",
       "  </thead>\n",
       "  <tbody>\n",
       "  </tbody>\n",
       "</table>\n",
       "</div>"
      ],
      "text/plain": [
       "Empty DataFrame\n",
       "Columns: [name, location, price, cuisine, rating, reviews]\n",
       "Index: []"
      ]
     },
     "execution_count": 16,
     "metadata": {},
     "output_type": "execute_result"
    }
   ],
   "source": [
    "df_chi[df_chi.duplicated()]"
   ]
  },
  {
   "cell_type": "code",
   "execution_count": 17,
   "metadata": {},
   "outputs": [
    {
     "data": {
      "text/plain": [
       "(600, 6)"
      ]
     },
     "execution_count": 17,
     "metadata": {},
     "output_type": "execute_result"
    }
   ],
   "source": [
    "df_chi.shape"
   ]
  },
  {
   "cell_type": "markdown",
   "metadata": {},
   "source": [
    "## Examples of Other Neat-o Selenium Stuff"
   ]
  },
  {
   "cell_type": "code",
   "execution_count": 18,
   "metadata": {},
   "outputs": [],
   "source": [
    "# you can also use selenium to make clicks!\n",
    "\n",
    "url = 'https://www.opentable.com/chicago-restaurant-listings'\n",
    "driver = webdriver.Chrome(executable_path=\"./chromedriver/macos/chromedriver\")\n",
    "driver.get(url)\n",
    "driver.implicitly_wait(2)\n",
    "price4 = driver.find_element_by_xpath('//*[@id=\"PriceBands-filter-items\"]/ul/li[3]/label')\n",
    "\n",
    "price4.click()\n",
    "sleep(5)\n",
    "driver.close()"
   ]
  },
  {
   "cell_type": "code",
   "execution_count": 31,
   "metadata": {},
   "outputs": [],
   "source": [
    "# can also type things into a search bar\n",
    "\n",
    "from selenium.webdriver.common.keys import Keys\n",
    "from time import sleep\n",
    "\n",
    "driver = webdriver.Chrome(executable_path=\"./chromedriver/macos/chromedriver\") \n",
    "driver.get(\"http://www.python.org\")\n",
    "sleep(5)\n",
    "assert \"Python\" in driver.title\n",
    "elem = driver.find_element_by_name(\"q\")\n",
    "elem.clear()\n",
    "elem.send_keys(\"pycon\")\n",
    "sleep(5)\n",
    "elem.send_keys(Keys.RETURN)\n",
    "sleep(5)\n",
    "assert \"No results found.\" not in driver.page_source\n",
    "sleep(5)\n",
    "driver.close()"
   ]
  },
  {
   "cell_type": "markdown",
   "metadata": {},
   "source": [
    "## Additional resources\n",
    "\n",
    "---\n",
    "\n",
    "The above example (and many others) are available in the Selenium docs: http://selenium-python.readthedocs.io/getting-started.html\n",
    "\n",
    "What is especially important is exploring functionality like locating elements: http://selenium-python.readthedocs.io/locating-elements.html#locating-elements\n",
    "\n",
    "FAQ:\n",
    "http://selenium-python.readthedocs.io/faq.html"
   ]
  }
 ],
 "metadata": {
  "anaconda-cloud": {},
  "kernelspec": {
   "display_name": "Python 3",
   "language": "python",
   "name": "python3"
  },
  "language_info": {
   "codemirror_mode": {
    "name": "ipython",
    "version": 3
   },
   "file_extension": ".py",
   "mimetype": "text/x-python",
   "name": "python",
   "nbconvert_exporter": "python",
   "pygments_lexer": "ipython3",
   "version": "3.7.4"
  }
 },
 "nbformat": 4,
 "nbformat_minor": 4
}
