{
 "cells": [
  {
   "cell_type": "code",
   "execution_count": 1,
   "metadata": {},
   "outputs": [],
   "source": [
    "from selenium.webdriver import Chrome"
   ]
  },
  {
   "cell_type": "code",
   "execution_count": 2,
   "metadata": {},
   "outputs": [
    {
     "name": "stdout",
     "output_type": "stream",
     "text": [
      "Collecting beautifulsoup4\n",
      "  Downloading beautifulsoup4-4.9.1-py3-none-any.whl (115 kB)\n",
      "\u001b[K     |████████████████████████████████| 115 kB 4.2 MB/s eta 0:00:01\n",
      "\u001b[?25hCollecting soupsieve>1.2\n",
      "  Downloading soupsieve-2.0.1-py3-none-any.whl (32 kB)\n",
      "Installing collected packages: soupsieve, beautifulsoup4\n",
      "Successfully installed beautifulsoup4-4.9.1 soupsieve-2.0.1\n",
      "Note: you may need to restart the kernel to use updated packages.\n"
     ]
    }
   ],
   "source": [
    "#pip install beautifulsoup4"
   ]
  },
  {
   "cell_type": "code",
   "execution_count": 1,
   "metadata": {},
   "outputs": [
    {
     "name": "stdout",
     "output_type": "stream",
     "text": [
      "Collecting lxml\n",
      "  Downloading lxml-4.5.1-cp38-cp38-macosx_10_9_x86_64.whl (4.5 MB)\n",
      "\u001b[K     |████████████████████████████████| 4.5 MB 2.9 MB/s eta 0:00:01     |███████████████████████▍        | 3.3 MB 2.9 MB/s eta 0:00:01\n",
      "\u001b[?25hInstalling collected packages: lxml\n",
      "Successfully installed lxml-4.5.1\n",
      "Note: you may need to restart the kernel to use updated packages.\n"
     ]
    }
   ],
   "source": [
    "#pip install lxml"
   ]
  },
  {
   "cell_type": "code",
   "execution_count": 1,
   "metadata": {},
   "outputs": [],
   "source": [
    "from selenium import webdriver\n",
    "from time import sleep\n",
    "from bs4 import BeautifulSoup\n",
    "import pandas as pd"
   ]
  },
  {
   "cell_type": "code",
   "execution_count": 2,
   "metadata": {},
   "outputs": [],
   "source": [
    "driver = webdriver.Chrome(executable_path='./chromedriver/macos/chromedriver')"
   ]
  },
  {
   "cell_type": "code",
   "execution_count": 3,
   "metadata": {},
   "outputs": [],
   "source": [
    "url = 'https://www.phptravels.net/admin'"
   ]
  },
  {
   "cell_type": "code",
   "execution_count": 4,
   "metadata": {},
   "outputs": [],
   "source": [
    "email = 'admin@phptravels.com'\n",
    "password = 'demoadmin'"
   ]
  },
  {
   "cell_type": "code",
   "execution_count": 5,
   "metadata": {},
   "outputs": [],
   "source": [
    "driver.get(url)"
   ]
  },
  {
   "cell_type": "code",
   "execution_count": 6,
   "metadata": {},
   "outputs": [],
   "source": [
    "email_field = driver.find_element_by_name(\"email\")\n",
    "email_field.send_keys(email)\n",
    "# set sleep to create delays to the next code\n",
    "sleep(2)"
   ]
  },
  {
   "cell_type": "code",
   "execution_count": 7,
   "metadata": {},
   "outputs": [],
   "source": [
    "password_field = driver.find_element_by_name(\"password\")\n",
    "password_field.send_keys(password)\n",
    "# set sleep to create delays to the next code\n",
    "sleep(2)"
   ]
  },
  {
   "cell_type": "code",
   "execution_count": 8,
   "metadata": {},
   "outputs": [],
   "source": [
    "login_btn = driver.find_element_by_class_name(\"ladda-label\")\n",
    "login_btn.click()\n",
    "# Wait to logging in \n",
    "# without this sleep, you will fetch pre-login page as your page_source below\n",
    "sleep(3)"
   ]
  },
  {
   "cell_type": "code",
   "execution_count": 9,
   "metadata": {},
   "outputs": [],
   "source": [
    "html = driver.page_source\n",
    "# Beautiful Soup it!\n",
    "html = BeautifulSoup(html, 'lxml')"
   ]
  },
  {
   "cell_type": "code",
   "execution_count": 10,
   "metadata": {},
   "outputs": [],
   "source": [
    "table = html.find('table', {'class': 'xcrud-list table table-striped table-hover'})"
   ]
  },
  {
   "cell_type": "code",
   "execution_count": 11,
   "metadata": {},
   "outputs": [
    {
     "data": {
      "text/plain": [
       "[<th class=\"xcrud-column xcrud-action\" data-order=\"desc\" data-orderby=\"pt_bookings.booking_ref_no\">Ref No.</th>,\n",
       " <th class=\"xcrud-column xcrud-action\" data-order=\"desc\" data-orderby=\"pt_accounts.ai_first_name\">Customer</th>,\n",
       " <th class=\"xcrud-column xcrud-action\" data-order=\"desc\" data-orderby=\"pt_bookings.booking_type\">Module</th>,\n",
       " <th class=\"xcrud-column xcrud-action\" data-order=\"desc\" data-orderby=\"pt_bookings.booking_date\">Date</th>,\n",
       " <th class=\"xcrud-column xcrud-action\" data-order=\"desc\" data-orderby=\"pt_bookings.booking_total\">Total</th>,\n",
       " <th class=\"xcrud-column xcrud-action\" data-order=\"desc\" data-orderby=\"pt_bookings.booking_amount_paid\">Paid</th>,\n",
       " <th class=\"xcrud-column xcrud-action\" data-order=\"desc\" data-orderby=\"pt_bookings.booking_remaining\">Remaining</th>,\n",
       " <th class=\"xcrud-column xcrud-action\" data-order=\"desc\" data-orderby=\"pt_bookings.booking_status\">Status</th>,\n",
       " <th class=\"xcrud-column xcrud-action\" data-order=\"desc\" data-orderby=\"pt_bookings.booking_logs\">Booking Logs</th>]"
      ]
     },
     "execution_count": 11,
     "metadata": {},
     "output_type": "execute_result"
    }
   ],
   "source": [
    "table.find_all('th', {'class': 'xcrud-column xcrud-action'})"
   ]
  },
  {
   "cell_type": "code",
   "execution_count": 12,
   "metadata": {},
   "outputs": [
    {
     "name": "stdout",
     "output_type": "stream",
     "text": [
      "Column names:  ['Ref No.', 'Customer', 'Module', 'Date', 'Total', 'Paid', 'Remaining', 'Status', 'Booking Logs']\n"
     ]
    }
   ],
   "source": [
    "cols = []\n",
    "travels = []\n",
    "# Set the column names \n",
    "for col in table.find_all('th', {'class': 'xcrud-column xcrud-action'}):\n",
    "    cols.append(col.text)\n",
    "print(\"Column names: \", cols)\n",
    "# Fetch table contents\n",
    "for row in table.find('tbody').find_all('tr'):\n",
    "    cells = row.find_all('td')\n",
    "    # Start with an empty travel dictionary\n",
    "    travel = {}\n",
    "    # Add values from our cells\n",
    "    travel['Ref No.'] = cells[3].text    \n",
    "    travel['Customer'] = cells[4].text\n",
    "    travel['Module'] = cells[5].text\n",
    "    travel['Date'] = cells[6].text\n",
    "    travel['Total'] = cells[7].text\n",
    "    travel['Paid'] = cells[8].text\n",
    "    travel['Remaining'] = cells[9].text\n",
    "    travel['Status'] = cells[10].text\n",
    "    #Add the travel dictionary to the list of travels\n",
    "    travels.append(travel)"
   ]
  },
  {
   "cell_type": "code",
   "execution_count": 13,
   "metadata": {},
   "outputs": [
    {
     "data": {
      "text/html": [
       "<div>\n",
       "<style scoped>\n",
       "    .dataframe tbody tr th:only-of-type {\n",
       "        vertical-align: middle;\n",
       "    }\n",
       "\n",
       "    .dataframe tbody tr th {\n",
       "        vertical-align: top;\n",
       "    }\n",
       "\n",
       "    .dataframe thead th {\n",
       "        text-align: right;\n",
       "    }\n",
       "</style>\n",
       "<table border=\"1\" class=\"dataframe\">\n",
       "  <thead>\n",
       "    <tr style=\"text-align: right;\">\n",
       "      <th></th>\n",
       "      <th>Ref No.</th>\n",
       "      <th>Customer</th>\n",
       "      <th>Module</th>\n",
       "      <th>Date</th>\n",
       "      <th>Total</th>\n",
       "      <th>Paid</th>\n",
       "      <th>Remaining</th>\n",
       "      <th>Status</th>\n",
       "      <th>Booking Logs</th>\n",
       "    </tr>\n",
       "  </thead>\n",
       "  <tbody>\n",
       "    <tr>\n",
       "      <th>0</th>\n",
       "      <td>0923</td>\n",
       "      <td>Demo</td>\n",
       "      <td>hotels</td>\n",
       "      <td>27/01/2020</td>\n",
       "      <td>1782</td>\n",
       "      <td>0</td>\n",
       "      <td>1782</td>\n",
       "      <td>Unpaid</td>\n",
       "      <td>NaN</td>\n",
       "    </tr>\n",
       "  </tbody>\n",
       "</table>\n",
       "</div>"
      ],
      "text/plain": [
       "  Ref No. Customer  Module        Date Total Paid Remaining  Status  \\\n",
       "0    0923     Demo  hotels  27/01/2020  1782    0      1782  Unpaid   \n",
       "\n",
       "   Booking Logs  \n",
       "0           NaN  "
      ]
     },
     "execution_count": 13,
     "metadata": {},
     "output_type": "execute_result"
    }
   ],
   "source": [
    "df = pd.DataFrame(travels, columns=cols)\n",
    "df.head()"
   ]
  },
  {
   "cell_type": "code",
   "execution_count": null,
   "metadata": {},
   "outputs": [],
   "source": []
  }
 ],
 "metadata": {
  "kernelspec": {
   "display_name": "Python 3",
   "language": "python",
   "name": "python3"
  },
  "language_info": {
   "codemirror_mode": {
    "name": "ipython",
    "version": 3
   },
   "file_extension": ".py",
   "mimetype": "text/x-python",
   "name": "python",
   "nbconvert_exporter": "python",
   "pygments_lexer": "ipython3",
   "version": "3.7.4"
  }
 },
 "nbformat": 4,
 "nbformat_minor": 4
}
