{
 "cells": [
  {
   "cell_type": "markdown",
   "metadata": {},
   "source": [
    "# <center>KMeans model</center>"
   ]
  },
  {
   "cell_type": "code",
   "execution_count": 39,
   "metadata": {},
   "outputs": [],
   "source": [
    "import pandas as pd\n",
    "import numpy as np \n",
    "\n",
    "#KMeans\n",
    "from sklearn.datasets import make_blobs\n",
    "from sklearn.cluster import KMeans\n",
    "from sklearn.preprocessing import StandardScaler\n",
    "\n",
    "import seaborn as sns\n",
    "import matplotlib.pyplot as plt\n",
    "import matplotlib\n",
    "\n",
    "matplotlib.style.use('ggplot')\n",
    "\n",
    "# # Let's make some more blobs to test K-Means on\n",
    "# data, color = make_blobs(n_samples=100, random_state=29, centers=3, cluster_std=1.5)"
   ]
  },
  {
   "cell_type": "code",
   "execution_count": 20,
   "metadata": {},
   "outputs": [
    {
     "data": {
      "text/html": [
       "<div>\n",
       "<style scoped>\n",
       "    .dataframe tbody tr th:only-of-type {\n",
       "        vertical-align: middle;\n",
       "    }\n",
       "\n",
       "    .dataframe tbody tr th {\n",
       "        vertical-align: top;\n",
       "    }\n",
       "\n",
       "    .dataframe thead th {\n",
       "        text-align: right;\n",
       "    }\n",
       "</style>\n",
       "<table border=\"1\" class=\"dataframe\">\n",
       "  <thead>\n",
       "    <tr style=\"text-align: right;\">\n",
       "      <th></th>\n",
       "      <th>review_profilename</th>\n",
       "      <th>beer_beerid</th>\n",
       "      <th>beer_name</th>\n",
       "      <th>beer_abv</th>\n",
       "      <th>beer_style</th>\n",
       "      <th>review_overall</th>\n",
       "      <th>review_aroma</th>\n",
       "      <th>review_appearance</th>\n",
       "      <th>review_palate</th>\n",
       "      <th>review_taste</th>\n",
       "    </tr>\n",
       "  </thead>\n",
       "  <tbody>\n",
       "    <tr>\n",
       "      <th>0</th>\n",
       "      <td>Nibbley</td>\n",
       "      <td>776</td>\n",
       "      <td>Samichlaus Bier</td>\n",
       "      <td>14.00</td>\n",
       "      <td>Doppelbock</td>\n",
       "      <td>5.0</td>\n",
       "      <td>5.0</td>\n",
       "      <td>5.0</td>\n",
       "      <td>5.0</td>\n",
       "      <td>5.0</td>\n",
       "    </tr>\n",
       "    <tr>\n",
       "      <th>1</th>\n",
       "      <td>BeerTitan</td>\n",
       "      <td>1441</td>\n",
       "      <td>Young's Old Nick Barley Wine Ale</td>\n",
       "      <td>7.20</td>\n",
       "      <td>English Barleywine</td>\n",
       "      <td>4.5</td>\n",
       "      <td>4.5</td>\n",
       "      <td>4.0</td>\n",
       "      <td>4.5</td>\n",
       "      <td>4.0</td>\n",
       "    </tr>\n",
       "    <tr>\n",
       "      <th>2</th>\n",
       "      <td>Morey</td>\n",
       "      <td>46809</td>\n",
       "      <td>Flashback Ale</td>\n",
       "      <td>6.88</td>\n",
       "      <td>American Brown Ale</td>\n",
       "      <td>3.5</td>\n",
       "      <td>3.5</td>\n",
       "      <td>4.0</td>\n",
       "      <td>4.0</td>\n",
       "      <td>3.5</td>\n",
       "    </tr>\n",
       "  </tbody>\n",
       "</table>\n",
       "</div>"
      ],
      "text/plain": [
       "  review_profilename  beer_beerid                         beer_name  beer_abv  \\\n",
       "0            Nibbley          776                   Samichlaus Bier     14.00   \n",
       "1          BeerTitan         1441  Young's Old Nick Barley Wine Ale      7.20   \n",
       "2              Morey        46809                     Flashback Ale      6.88   \n",
       "\n",
       "           beer_style  review_overall  review_aroma  review_appearance  \\\n",
       "0          Doppelbock             5.0           5.0                5.0   \n",
       "1  English Barleywine             4.5           4.5                4.0   \n",
       "2  American Brown Ale             3.5           3.5                4.0   \n",
       "\n",
       "   review_palate  review_taste  \n",
       "0            5.0           5.0  \n",
       "1            4.5           4.0  \n",
       "2            4.0           3.5  "
      ]
     },
     "execution_count": 20,
     "metadata": {},
     "output_type": "execute_result"
    }
   ],
   "source": [
    "#read in data\n",
    "data = pd.read_csv('../data/beer_data.csv')\n",
    "data.head(3)"
   ]
  },
  {
   "cell_type": "code",
   "execution_count": 21,
   "metadata": {},
   "outputs": [
    {
     "data": {
      "text/plain": [
       "(15185, 10)"
      ]
     },
     "execution_count": 21,
     "metadata": {},
     "output_type": "execute_result"
    }
   ],
   "source": [
    "# ????? Maybe ?????\n",
    "#Relabeling numerical columns\n",
    "#x1 = review_overall\n",
    "#x2 = review_aroma\n",
    "#x3 = review_appearance\n",
    "#x4 = review_palate\n",
    "#x5 = review_taste\n",
    "data.shape"
   ]
  },
  {
   "cell_type": "code",
   "execution_count": 22,
   "metadata": {},
   "outputs": [],
   "source": [
    "# Let's prepare our X matrix\n",
    "X = data.loc[:, ['review_overall', \n",
    "               'review_aroma', \n",
    "               'review_appearance', \n",
    "               'review_palate', \n",
    "               'review_taste']]\n",
    "sc = StandardScaler()\n",
    "X_sc = sc.fit_transform(X)\n",
    "\n",
    "#----\n",
    "#or\n",
    "## Let's prepare our X matrix\n",
    "# ss = StandardScaler()\n",
    "# X = ss.fit_transform(df[['x1', 'x2']])"
   ]
  },
  {
   "cell_type": "code",
   "execution_count": 23,
   "metadata": {},
   "outputs": [
    {
     "data": {
      "text/plain": [
       "review_overall       3.832137\n",
       "review_aroma         3.748568\n",
       "review_appearance    3.858413\n",
       "review_palate        3.759796\n",
       "review_taste         3.811294\n",
       "dtype: float64"
      ]
     },
     "execution_count": 23,
     "metadata": {},
     "output_type": "execute_result"
    }
   ],
   "source": [
    "X.mean(axis=0)"
   ]
  },
  {
   "cell_type": "code",
   "execution_count": 24,
   "metadata": {},
   "outputs": [
    {
     "data": {
      "text/plain": [
       "review_overall       0.716733\n",
       "review_aroma         0.695321\n",
       "review_appearance    0.612646\n",
       "review_palate        0.679274\n",
       "review_taste         0.725155\n",
       "dtype: float64"
      ]
     },
     "execution_count": 24,
     "metadata": {},
     "output_type": "execute_result"
    }
   ],
   "source": [
    "X.std(axis=0)"
   ]
  },
  {
   "cell_type": "code",
   "execution_count": 25,
   "metadata": {},
   "outputs": [
    {
     "data": {
      "text/plain": [
       "KMeans(algorithm='auto', copy_x=True, init='k-means++', max_iter=300,\n",
       "       n_clusters=5, n_init=10, n_jobs=None, precompute_distances='auto',\n",
       "       random_state=None, tol=0.0001, verbose=0)"
      ]
     },
     "execution_count": 25,
     "metadata": {},
     "output_type": "execute_result"
    }
   ],
   "source": [
    "#the more clusters the better\n",
    "km = KMeans(n_clusters=5)\n",
    "km.fit(X_sc)"
   ]
  },
  {
   "cell_type": "code",
   "execution_count": 26,
   "metadata": {},
   "outputs": [
    {
     "data": {
      "text/plain": [
       "array([[ 0.97826127,  0.97296309,  0.88382287,  1.00242081,  1.03271438],\n",
       "       [ 0.36959487,  0.35463359,  0.29981486,  0.36877021,  0.39667214],\n",
       "       [-2.65597921, -2.42696727, -2.25528983, -2.49956376, -2.65216709],\n",
       "       [-1.12682467, -1.08387755, -0.90813122, -1.13451024, -1.22329745],\n",
       "       [-0.22481522, -0.25459975, -0.23412203, -0.25796262, -0.24945065]])"
      ]
     },
     "execution_count": 26,
     "metadata": {},
     "output_type": "execute_result"
    }
   ],
   "source": [
    "# Check out centroids\n",
    "#cluster centers of 5 x 5 matrix\n",
    "km.cluster_centers_"
   ]
  },
  {
   "cell_type": "code",
   "execution_count": 27,
   "metadata": {},
   "outputs": [
    {
     "data": {
      "text/plain": [
       "array([0, 0, 4, ..., 1, 4, 4], dtype=int32)"
      ]
     },
     "execution_count": 27,
     "metadata": {},
     "output_type": "execute_result"
    }
   ],
   "source": [
    "#Class attribute\n",
    "#these are the clusters\n",
    "km.labels_"
   ]
  },
  {
   "cell_type": "code",
   "execution_count": 28,
   "metadata": {},
   "outputs": [
    {
     "data": {
      "text/plain": [
       "array([0, 0, 4, ..., 1, 4, 4], dtype=int32)"
      ]
     },
     "execution_count": 28,
     "metadata": {},
     "output_type": "execute_result"
    }
   ],
   "source": [
    "#Predict (option 2)\n",
    "#returns the same as km.labels_\n",
    "km.predict(X_sc)"
   ]
  },
  {
   "cell_type": "code",
   "execution_count": 29,
   "metadata": {},
   "outputs": [
    {
     "data": {
      "text/html": [
       "<div>\n",
       "<style scoped>\n",
       "    .dataframe tbody tr th:only-of-type {\n",
       "        vertical-align: middle;\n",
       "    }\n",
       "\n",
       "    .dataframe tbody tr th {\n",
       "        vertical-align: top;\n",
       "    }\n",
       "\n",
       "    .dataframe thead th {\n",
       "        text-align: right;\n",
       "    }\n",
       "</style>\n",
       "<table border=\"1\" class=\"dataframe\">\n",
       "  <thead>\n",
       "    <tr style=\"text-align: right;\">\n",
       "      <th></th>\n",
       "      <th>review_profilename</th>\n",
       "      <th>beer_beerid</th>\n",
       "      <th>beer_name</th>\n",
       "      <th>beer_abv</th>\n",
       "      <th>beer_style</th>\n",
       "      <th>review_overall</th>\n",
       "      <th>review_aroma</th>\n",
       "      <th>review_appearance</th>\n",
       "      <th>review_palate</th>\n",
       "      <th>review_taste</th>\n",
       "      <th>cluster</th>\n",
       "    </tr>\n",
       "  </thead>\n",
       "  <tbody>\n",
       "    <tr>\n",
       "      <th>0</th>\n",
       "      <td>Nibbley</td>\n",
       "      <td>776</td>\n",
       "      <td>Samichlaus Bier</td>\n",
       "      <td>14.00</td>\n",
       "      <td>Doppelbock</td>\n",
       "      <td>5.0</td>\n",
       "      <td>5.0</td>\n",
       "      <td>5.0</td>\n",
       "      <td>5.0</td>\n",
       "      <td>5.0</td>\n",
       "      <td>0</td>\n",
       "    </tr>\n",
       "    <tr>\n",
       "      <th>1</th>\n",
       "      <td>BeerTitan</td>\n",
       "      <td>1441</td>\n",
       "      <td>Young's Old Nick Barley Wine Ale</td>\n",
       "      <td>7.20</td>\n",
       "      <td>English Barleywine</td>\n",
       "      <td>4.5</td>\n",
       "      <td>4.5</td>\n",
       "      <td>4.0</td>\n",
       "      <td>4.5</td>\n",
       "      <td>4.0</td>\n",
       "      <td>0</td>\n",
       "    </tr>\n",
       "    <tr>\n",
       "      <th>2</th>\n",
       "      <td>Morey</td>\n",
       "      <td>46809</td>\n",
       "      <td>Flashback Ale</td>\n",
       "      <td>6.88</td>\n",
       "      <td>American Brown Ale</td>\n",
       "      <td>3.5</td>\n",
       "      <td>3.5</td>\n",
       "      <td>4.0</td>\n",
       "      <td>4.0</td>\n",
       "      <td>3.5</td>\n",
       "      <td>4</td>\n",
       "    </tr>\n",
       "    <tr>\n",
       "      <th>3</th>\n",
       "      <td>tempest</td>\n",
       "      <td>2704</td>\n",
       "      <td>St-Ambroise Oatmeal Stout</td>\n",
       "      <td>5.00</td>\n",
       "      <td>Oatmeal Stout</td>\n",
       "      <td>4.0</td>\n",
       "      <td>5.0</td>\n",
       "      <td>4.0</td>\n",
       "      <td>4.0</td>\n",
       "      <td>3.5</td>\n",
       "      <td>1</td>\n",
       "    </tr>\n",
       "    <tr>\n",
       "      <th>4</th>\n",
       "      <td>KoG</td>\n",
       "      <td>248</td>\n",
       "      <td>Hoegaarden Original White Ale</td>\n",
       "      <td>4.90</td>\n",
       "      <td>Witbier</td>\n",
       "      <td>5.0</td>\n",
       "      <td>3.5</td>\n",
       "      <td>4.0</td>\n",
       "      <td>4.5</td>\n",
       "      <td>4.5</td>\n",
       "      <td>0</td>\n",
       "    </tr>\n",
       "  </tbody>\n",
       "</table>\n",
       "</div>"
      ],
      "text/plain": [
       "  review_profilename  beer_beerid                         beer_name  beer_abv  \\\n",
       "0            Nibbley          776                   Samichlaus Bier     14.00   \n",
       "1          BeerTitan         1441  Young's Old Nick Barley Wine Ale      7.20   \n",
       "2              Morey        46809                     Flashback Ale      6.88   \n",
       "3            tempest         2704         St-Ambroise Oatmeal Stout      5.00   \n",
       "4                KoG          248     Hoegaarden Original White Ale      4.90   \n",
       "\n",
       "           beer_style  review_overall  review_aroma  review_appearance  \\\n",
       "0          Doppelbock             5.0           5.0                5.0   \n",
       "1  English Barleywine             4.5           4.5                4.0   \n",
       "2  American Brown Ale             3.5           3.5                4.0   \n",
       "3       Oatmeal Stout             4.0           5.0                4.0   \n",
       "4             Witbier             5.0           3.5                4.0   \n",
       "\n",
       "   review_palate  review_taste  cluster  \n",
       "0            5.0           5.0        0  \n",
       "1            4.5           4.0        0  \n",
       "2            4.0           3.5        4  \n",
       "3            4.0           3.5        1  \n",
       "4            4.5           4.5        0  "
      ]
     },
     "execution_count": 29,
     "metadata": {},
     "output_type": "execute_result"
    }
   ],
   "source": [
    "# attach predicted cluster to original points\n",
    "data['cluster'] = km.labels_\n",
    "data.head()"
   ]
  },
  {
   "cell_type": "code",
   "execution_count": 30,
   "metadata": {},
   "outputs": [
    {
     "data": {
      "text/plain": [
       "array([[ 0.97826127,  0.97296309,  0.88382287,  1.00242081,  1.03271438],\n",
       "       [ 0.36959487,  0.35463359,  0.29981486,  0.36877021,  0.39667214],\n",
       "       [-2.65597921, -2.42696727, -2.25528983, -2.49956376, -2.65216709],\n",
       "       [-1.12682467, -1.08387755, -0.90813122, -1.13451024, -1.22329745],\n",
       "       [-0.22481522, -0.25459975, -0.23412203, -0.25796262, -0.24945065]])"
      ]
     },
     "execution_count": 30,
     "metadata": {},
     "output_type": "execute_result"
    }
   ],
   "source": [
    "km.cluster_centers_"
   ]
  },
  {
   "cell_type": "code",
   "execution_count": 31,
   "metadata": {},
   "outputs": [
    {
     "data": {
      "text/html": [
       "<div>\n",
       "<style scoped>\n",
       "    .dataframe tbody tr th:only-of-type {\n",
       "        vertical-align: middle;\n",
       "    }\n",
       "\n",
       "    .dataframe tbody tr th {\n",
       "        vertical-align: top;\n",
       "    }\n",
       "\n",
       "    .dataframe thead th {\n",
       "        text-align: right;\n",
       "    }\n",
       "</style>\n",
       "<table border=\"1\" class=\"dataframe\">\n",
       "  <thead>\n",
       "    <tr style=\"text-align: right;\">\n",
       "      <th></th>\n",
       "      <th>review_overall</th>\n",
       "      <th>review_aroma</th>\n",
       "      <th>review_appearance</th>\n",
       "      <th>review_palate</th>\n",
       "      <th>review_taste</th>\n",
       "    </tr>\n",
       "    <tr>\n",
       "      <th>cluster</th>\n",
       "      <th></th>\n",
       "      <th></th>\n",
       "      <th></th>\n",
       "      <th></th>\n",
       "      <th></th>\n",
       "    </tr>\n",
       "  </thead>\n",
       "  <tbody>\n",
       "    <tr>\n",
       "      <th>0</th>\n",
       "      <td>4.533266</td>\n",
       "      <td>4.425067</td>\n",
       "      <td>4.399866</td>\n",
       "      <td>4.440692</td>\n",
       "      <td>4.560148</td>\n",
       "    </tr>\n",
       "    <tr>\n",
       "      <th>1</th>\n",
       "      <td>4.097029</td>\n",
       "      <td>3.995144</td>\n",
       "      <td>4.042087</td>\n",
       "      <td>4.010284</td>\n",
       "      <td>4.098934</td>\n",
       "    </tr>\n",
       "    <tr>\n",
       "      <th>2</th>\n",
       "      <td>1.928571</td>\n",
       "      <td>2.061102</td>\n",
       "      <td>2.476764</td>\n",
       "      <td>2.061962</td>\n",
       "      <td>1.888124</td>\n",
       "    </tr>\n",
       "    <tr>\n",
       "      <th>3</th>\n",
       "      <td>3.024531</td>\n",
       "      <td>2.994949</td>\n",
       "      <td>3.302068</td>\n",
       "      <td>2.989177</td>\n",
       "      <td>2.924242</td>\n",
       "    </tr>\n",
       "    <tr>\n",
       "      <th>4</th>\n",
       "      <td>3.671010</td>\n",
       "      <td>3.571545</td>\n",
       "      <td>3.714984</td>\n",
       "      <td>3.584574</td>\n",
       "      <td>3.630409</td>\n",
       "    </tr>\n",
       "  </tbody>\n",
       "</table>\n",
       "</div>"
      ],
      "text/plain": [
       "         review_overall  review_aroma  review_appearance  review_palate  \\\n",
       "cluster                                                                   \n",
       "0              4.533266      4.425067           4.399866       4.440692   \n",
       "1              4.097029      3.995144           4.042087       4.010284   \n",
       "2              1.928571      2.061102           2.476764       2.061962   \n",
       "3              3.024531      2.994949           3.302068       2.989177   \n",
       "4              3.671010      3.571545           3.714984       3.584574   \n",
       "\n",
       "         review_taste  \n",
       "cluster                \n",
       "0            4.560148  \n",
       "1            4.098934  \n",
       "2            1.888124  \n",
       "3            2.924242  \n",
       "4            3.630409  "
      ]
     },
     "execution_count": 31,
     "metadata": {},
     "output_type": "execute_result"
    }
   ],
   "source": [
    "#cluster centroids are the mean coordinates of every point in that cluster\n",
    "#saved into a dataframe (just the cluster centers)\n",
    "centroids = data.groupby('cluster')[['review_overall', \n",
    "               'review_aroma', \n",
    "               'review_appearance', \n",
    "               'review_palate', \n",
    "               'review_taste']].mean()\n",
    "centroids\n",
    "\n",
    "#can also use this inverse code to get the same answer\n",
    "# centroids = pd.DataFrame(\n",
    "#     sc.inverse_transform(km.cluster_centers_),\n",
    "#     columns=[\"x1\", \"x2\"]\n",
    "# )"
   ]
  },
  {
   "cell_type": "code",
   "execution_count": 32,
   "metadata": {},
   "outputs": [],
   "source": [
    "# plt.figure(figsize=(7,7));\n",
    "\n",
    "# ## Plot scatter by cluster / color, and centroids\n",
    "# colors = [\"red\", \"green\", \"blue\"]\n",
    "# data['color'] = data['cluster'].map(lambda p: colors[p])\n",
    "\n",
    "# ax = df.plot(    \n",
    "#     kind=\"scatter\", \n",
    "#     x=\"x1\", y=\"x2\",\n",
    "#     figsize=(10,8),\n",
    "#     c = df['color']\n",
    "# )\n",
    "\n",
    "# centroids.plot(\n",
    "#     kind=\"scatter\", \n",
    "#     x=\"x1\", y=\"x2\", \n",
    "#     marker=\"*\", c=[\"r\", \"g\", \"b\"], s=550,\n",
    "#     ax=ax\n",
    "# );"
   ]
  },
  {
   "cell_type": "code",
   "execution_count": 33,
   "metadata": {},
   "outputs": [
    {
     "data": {
      "text/plain": [
       "26319.485257476976"
      ]
     },
     "execution_count": 33,
     "metadata": {},
     "output_type": "execute_result"
    }
   ],
   "source": [
    "km.inertia_"
   ]
  },
  {
   "cell_type": "code",
   "execution_count": 34,
   "metadata": {},
   "outputs": [],
   "source": [
    "#Calculating Silhouette score in sklearn\n",
    "from sklearn.metrics import silhouette_score"
   ]
  },
  {
   "cell_type": "code",
   "execution_count": 35,
   "metadata": {},
   "outputs": [
    {
     "data": {
      "text/plain": [
       "0.18785558350123616"
      ]
     },
     "execution_count": 35,
     "metadata": {},
     "output_type": "execute_result"
    }
   ],
   "source": [
    "# Used only 1% random sample of my data (15_000+ rows)\n",
    "# Anything over 20_000 will take a long time and overheat computer-- \n",
    "# use cloud if there's big data\n",
    "silhouette_score(X_sc, km.labels_)"
   ]
  },
  {
   "cell_type": "code",
   "execution_count": 36,
   "metadata": {},
   "outputs": [],
   "source": [
    "scores = []\n",
    "for k in range(2, 31):\n",
    "    cl = KMeans(n_clusters=k)\n",
    "    cl.fit(X_sc)\n",
    "    inertia = cl.inertia_\n",
    "    sil = silhouette_score(X_sc, cl.labels_)\n",
    "    scores.append([k, inertia, sil])\n",
    "    \n",
    "score_df = pd.DataFrame(scores)\n",
    "score_df.columns = ['k', 'inertia', 'silhouette']"
   ]
  },
  {
   "cell_type": "code",
   "execution_count": 37,
   "metadata": {},
   "outputs": [
    {
     "data": {
      "text/html": [
       "<div>\n",
       "<style scoped>\n",
       "    .dataframe tbody tr th:only-of-type {\n",
       "        vertical-align: middle;\n",
       "    }\n",
       "\n",
       "    .dataframe tbody tr th {\n",
       "        vertical-align: top;\n",
       "    }\n",
       "\n",
       "    .dataframe thead th {\n",
       "        text-align: right;\n",
       "    }\n",
       "</style>\n",
       "<table border=\"1\" class=\"dataframe\">\n",
       "  <thead>\n",
       "    <tr style=\"text-align: right;\">\n",
       "      <th></th>\n",
       "      <th>k</th>\n",
       "      <th>inertia</th>\n",
       "      <th>silhouette</th>\n",
       "    </tr>\n",
       "  </thead>\n",
       "  <tbody>\n",
       "    <tr>\n",
       "      <th>0</th>\n",
       "      <td>2</td>\n",
       "      <td>42939.409895</td>\n",
       "      <td>0.425468</td>\n",
       "    </tr>\n",
       "    <tr>\n",
       "      <th>1</th>\n",
       "      <td>3</td>\n",
       "      <td>32990.066651</td>\n",
       "      <td>0.283089</td>\n",
       "    </tr>\n",
       "    <tr>\n",
       "      <th>2</th>\n",
       "      <td>4</td>\n",
       "      <td>28678.759888</td>\n",
       "      <td>0.220555</td>\n",
       "    </tr>\n",
       "    <tr>\n",
       "      <th>3</th>\n",
       "      <td>5</td>\n",
       "      <td>26319.500342</td>\n",
       "      <td>0.187870</td>\n",
       "    </tr>\n",
       "    <tr>\n",
       "      <th>4</th>\n",
       "      <td>6</td>\n",
       "      <td>24372.528319</td>\n",
       "      <td>0.184398</td>\n",
       "    </tr>\n",
       "  </tbody>\n",
       "</table>\n",
       "</div>"
      ],
      "text/plain": [
       "   k       inertia  silhouette\n",
       "0  2  42939.409895    0.425468\n",
       "1  3  32990.066651    0.283089\n",
       "2  4  28678.759888    0.220555\n",
       "3  5  26319.500342    0.187870\n",
       "4  6  24372.528319    0.184398"
      ]
     },
     "execution_count": 37,
     "metadata": {},
     "output_type": "execute_result"
    }
   ],
   "source": [
    "score_df.head()"
   ]
  },
  {
   "cell_type": "code",
   "execution_count": 40,
   "metadata": {},
   "outputs": [
    {
     "data": {
      "text/plain": [
       "Text(0.5, 1.0, 'Silhouette Score over k')"
      ]
     },
     "execution_count": 40,
     "metadata": {},
     "output_type": "execute_result"
    },
    {
     "data": {
      "image/png": "[encoded data removed]",
      "text/plain": [
       "<Figure size 1008x504 with 2 Axes>"
      ]
     },
     "metadata": {},
     "output_type": "display_data"
    }
   ],
   "source": [
    "fig, axes = plt.subplots(1, 2, figsize=(14, 7))\n",
    "axes[0].plot(score_df.k, score_df.inertia)\n",
    "axes[0].set_title('Inertia over k')\n",
    "axes[1].plot(score_df.k, score_df.silhouette);\n",
    "axes[1].set_title('Silhouette Score over k')"
   ]
  },
  {
   "cell_type": "code",
   "execution_count": null,
   "metadata": {},
   "outputs": [],
   "source": []
  },
  {
   "cell_type": "code",
   "execution_count": null,
   "metadata": {},
   "outputs": [],
   "source": []
  }
 ],
 "metadata": {
  "kernelspec": {
   "display_name": "Python 3",
   "language": "python",
   "name": "python3"
  },
  "language_info": {
   "codemirror_mode": {
    "name": "ipython",
    "version": 3
   },
   "file_extension": ".py",
   "mimetype": "text/x-python",
   "name": "python",
   "nbconvert_exporter": "python",
   "pygments_lexer": "ipython3",
   "version": "3.8.3"
  }
 },
 "nbformat": 4,
 "nbformat_minor": 4
}
