{
 "cells": [
  {
   "cell_type": "markdown",
   "metadata": {},
   "source": [
    "# <center>Data Cleaning & EDA</center>"
   ]
  },
  {
   "cell_type": "code",
   "execution_count": 12,
   "metadata": {},
   "outputs": [],
   "source": [
    "#Imported libraries\n",
    "import pandas as pd\n",
    "import numpy as np\n",
    "import matplotlib.pyplot as plt\n",
    "import seaborn as sns\n",
    "\n",
    "%matplotlib inline"
   ]
  },
  {
   "cell_type": "code",
   "execution_count": 4,
   "metadata": {},
   "outputs": [
    {
     "data": {
      "text/html": [
       "<div>\n",
       "<style scoped>\n",
       "    .dataframe tbody tr th:only-of-type {\n",
       "        vertical-align: middle;\n",
       "    }\n",
       "\n",
       "    .dataframe tbody tr th {\n",
       "        vertical-align: top;\n",
       "    }\n",
       "\n",
       "    .dataframe thead th {\n",
       "        text-align: right;\n",
       "    }\n",
       "</style>\n",
       "<table border=\"1\" class=\"dataframe\">\n",
       "  <thead>\n",
       "    <tr style=\"text-align: right;\">\n",
       "      <th></th>\n",
       "      <th>review_overall</th>\n",
       "      <th>review_aroma</th>\n",
       "      <th>review_appearance</th>\n",
       "      <th>review_profilename</th>\n",
       "      <th>beer_style</th>\n",
       "      <th>review_palate</th>\n",
       "      <th>review_taste</th>\n",
       "      <th>beer_name</th>\n",
       "      <th>beer_beerid</th>\n",
       "    </tr>\n",
       "  </thead>\n",
       "  <tbody>\n",
       "    <tr>\n",
       "      <th>0</th>\n",
       "      <td>4.0</td>\n",
       "      <td>3.5</td>\n",
       "      <td>4.5</td>\n",
       "      <td>Jammies</td>\n",
       "      <td>Russian Imperial Stout</td>\n",
       "      <td>3.5</td>\n",
       "      <td>4.0</td>\n",
       "      <td>Bell's Expedition Stout</td>\n",
       "      <td>1444</td>\n",
       "    </tr>\n",
       "    <tr>\n",
       "      <th>1</th>\n",
       "      <td>3.0</td>\n",
       "      <td>3.0</td>\n",
       "      <td>3.0</td>\n",
       "      <td>Anthony1</td>\n",
       "      <td>American Pale Wheat Ale</td>\n",
       "      <td>3.0</td>\n",
       "      <td>3.0</td>\n",
       "      <td>Widmer Hefeweizen</td>\n",
       "      <td>17</td>\n",
       "    </tr>\n",
       "    <tr>\n",
       "      <th>2</th>\n",
       "      <td>2.5</td>\n",
       "      <td>3.0</td>\n",
       "      <td>3.5</td>\n",
       "      <td>biegaman</td>\n",
       "      <td>Dunkelweizen</td>\n",
       "      <td>2.5</td>\n",
       "      <td>2.5</td>\n",
       "      <td>Fürstenberg Weizen Hefe Dunkel</td>\n",
       "      <td>11105</td>\n",
       "    </tr>\n",
       "  </tbody>\n",
       "</table>\n",
       "</div>"
      ],
      "text/plain": [
       "   review_overall  review_aroma  review_appearance review_profilename  \\\n",
       "0             4.0           3.5                4.5            Jammies   \n",
       "1             3.0           3.0                3.0           Anthony1   \n",
       "2             2.5           3.0                3.5           biegaman   \n",
       "\n",
       "                beer_style  review_palate  review_taste  \\\n",
       "0   Russian Imperial Stout            3.5           4.0   \n",
       "1  American Pale Wheat Ale            3.0           3.0   \n",
       "2             Dunkelweizen            2.5           2.5   \n",
       "\n",
       "                        beer_name  beer_beerid  \n",
       "0         Bell's Expedition Stout         1444  \n",
       "1               Widmer Hefeweizen           17  \n",
       "2  Fürstenberg Weizen Hefe Dunkel        11105  "
      ]
     },
     "execution_count": 4,
     "metadata": {},
     "output_type": "execute_result"
    }
   ],
   "source": [
    "data = pd.read_csv('../data/beer_data.csv')\n",
    "data.head(3)"
   ]
  },
  {
   "cell_type": "code",
   "execution_count": 7,
   "metadata": {},
   "outputs": [
    {
     "data": {
      "text/plain": [
       "review_overall        0\n",
       "review_aroma          0\n",
       "review_appearance     0\n",
       "review_profilename    0\n",
       "beer_style            0\n",
       "review_palate         0\n",
       "review_taste          0\n",
       "beer_name             0\n",
       "beer_beerid           0\n",
       "dtype: int64"
      ]
     },
     "execution_count": 7,
     "metadata": {},
     "output_type": "execute_result"
    }
   ],
   "source": [
    "#Checked for missing values\n",
    "#No missing values, I dropped null values prior to loading data\n",
    "data.isnull().sum()"
   ]
  },
  {
   "cell_type": "markdown",
   "metadata": {},
   "source": [
    "### Unique Beer Styles"
   ]
  },
  {
   "cell_type": "code",
   "execution_count": 20,
   "metadata": {
    "collapsed": true
   },
   "outputs": [
    {
     "data": {
      "text/plain": [
       "array(['Russian Imperial Stout', 'American Pale Wheat Ale',\n",
       "       'Dunkelweizen', 'American Pale Ale (APA)', 'Euro Strong Lager',\n",
       "       'Fruit / Vegetable Beer', 'American Wild Ale', 'American IPA',\n",
       "       'Munich Dunkel Lager', 'American Brown Ale',\n",
       "       'English India Pale Ale (IPA)', 'English Bitter', 'Vienna Lager',\n",
       "       'Bock', 'Saison / Farmhouse Ale', 'American Porter',\n",
       "       'Extra Special / Strong Bitter (ESB)', 'Low Alcohol Beer',\n",
       "       'Gueuze', 'Belgian Strong Dark Ale',\n",
       "       'American Double / Imperial Stout', 'Milk / Sweet Stout',\n",
       "       'Belgian Strong Pale Ale', 'German Pilsener', 'Scottish Ale',\n",
       "       'Dubbel', 'Pumpkin Ale', 'English Barleywine', 'Baltic Porter',\n",
       "       'American Amber / Red Ale', 'American Double / Imperial IPA',\n",
       "       'Doppelbock', 'American Stout', 'Light Lager',\n",
       "       'Foreign / Export Stout', 'Quadrupel (Quad)', 'Old Ale',\n",
       "       'Schwarzbier', 'Wheatwine', 'Scotch Ale / Wee Heavy', 'Witbier',\n",
       "       'Winter Warmer', 'Hefeweizen', 'Maibock / Helles Bock',\n",
       "       'Dortmunder / Export Lager', 'Euro Pale Lager', 'Weizenbock',\n",
       "       'English Pale Ale', 'Irish Red Ale', 'American Amber / Red Lager',\n",
       "       'Smoked Beer', 'Belgian Pale Ale', 'American Adjunct Lager',\n",
       "       'Oatmeal Stout', 'English Brown Ale', 'Märzen / Oktoberfest',\n",
       "       'American Barleywine', 'Munich Helles Lager', 'Cream Ale',\n",
       "       'Scottish Gruit / Ancient Herbed Ale', 'Kristalweizen',\n",
       "       'American Pale Lager', 'American Black Ale', 'Altbier',\n",
       "       'Bière de Garde', 'American Dark Wheat Ale', 'American Blonde Ale',\n",
       "       'Berliner Weissbier', 'Belgian Dark Ale', 'American Strong Ale',\n",
       "       'Tripel', 'Lambic - Unblended', 'Belgian IPA',\n",
       "       'Herbed / Spiced Beer', 'Czech Pilsener',\n",
       "       'California Common / Steam Beer', 'Kölsch', 'Euro Dark Lager',\n",
       "       'Rye Beer', 'Eisbock', 'Flanders Oud Bruin', 'Rauchbier', 'Sahti',\n",
       "       'Bière de Champagne / Bière Brut',\n",
       "       'American Double / Imperial Pilsner', 'Chile Beer',\n",
       "       'Lambic - Fruit', 'Keller Bier / Zwickel Bier',\n",
       "       'American Malt Liquor', 'Irish Dry Stout', 'Black & Tan',\n",
       "       'English Porter', 'English Stout', 'English Strong Ale',\n",
       "       'Flanders Red Ale', 'Gose', 'English Dark Mild Ale',\n",
       "       'English Pale Mild Ale', 'Happoshu', 'Braggot', 'Faro',\n",
       "       'Japanese Rice Lager', 'Kvass', 'Roggenbier'], dtype=object)"
      ]
     },
     "execution_count": 20,
     "metadata": {},
     "output_type": "execute_result"
    }
   ],
   "source": [
    "data['beer_style'].unique()"
   ]
  },
  {
   "cell_type": "markdown",
   "metadata": {},
   "source": [
    "### Unique Categorical Data: \n",
    "- review_profilename\n",
    "- beer_style\n",
    "- beer_name"
   ]
  },
  {
   "cell_type": "code",
   "execution_count": 42,
   "metadata": {},
   "outputs": [
    {
     "name": "stdout",
     "output_type": "stream",
     "text": [
      "\n",
      "Frequency of Categories for varible review_profilename\n",
      "\n",
      "northyorksammy    2314\n",
      "BuckeyeNation     1880\n",
      "mikesgroove       1797\n",
      "Thorpe429         1418\n",
      "NeroFiddled       1389\n",
      "                  ... \n",
      "supag32              1\n",
      "missingtoes          1\n",
      "convex               1\n",
      "cunninusa            1\n",
      "PhotoFM              1\n",
      "Name: review_profilename, Length: 24568, dtype: int64\n",
      "----------------\n",
      "\n",
      "Frequency of Categories for varible beer_style\n",
      "\n",
      "American IPA                        46864\n",
      "American Double / Imperial IPA      34346\n",
      "American Pale Ale (APA)             25711\n",
      "Russian Imperial Stout              21655\n",
      "American Double / Imperial Stout    20194\n",
      "                                    ...  \n",
      "Gose                                  263\n",
      "Faro                                  218\n",
      "Roggenbier                            204\n",
      "Kvass                                 133\n",
      "Happoshu                               98\n",
      "Name: beer_style, Length: 104, dtype: int64\n",
      "----------------\n",
      "\n",
      "Frequency of Categories for varible beer_name\n",
      "\n",
      "90 Minute IPA                          1312\n",
      "Old Rasputin Russian Imperial Stout    1260\n",
      "India Pale Ale                         1254\n",
      "Sierra Nevada Celebration Ale          1243\n",
      "Two Hearted Ale                        1073\n",
      "                                       ... \n",
      "Saison Du Hill                            1\n",
      "Cambridge House Pumpkin Porter            1\n",
      "Dos Costas Oeste - Orange Wood Aged       1\n",
      "Ledenika Special                          1\n",
      "Leilani Light                             1\n",
      "Name: beer_name, Length: 40620, dtype: int64\n",
      "----------------\n"
     ]
    }
   ],
   "source": [
    "#printing column's unique categorical values\n",
    "#modified code StackOverflow\n",
    "\n",
    "categorical_columns = ['review_profilename','beer_style','beer_name']\n",
    "\n",
    "#category frequencies\n",
    "for col in categorical_columns:\n",
    "    print ('\\nFrequency of Categories for varible %s'%col)\n",
    "    print()\n",
    "    print (data[col].value_counts())\n",
    "    print('----------------')\n"
   ]
  },
  {
   "cell_type": "markdown",
   "metadata": {},
   "source": [
    "### EDA on Reviews\n",
    "- review_overall \n",
    "- review_aroma  \n",
    "- review_appearance     \n",
    "- review_palate         \n",
    "- review_taste          "
   ]
  },
  {
   "cell_type": "code",
   "execution_count": 16,
   "metadata": {
    "collapsed": true
   },
   "outputs": [
    {
     "name": "stdout",
     "output_type": "stream",
     "text": [
      "0         4.0\n",
      "1         3.0\n",
      "2         2.5\n",
      "3         4.0\n",
      "4         2.5\n",
      "         ... \n",
      "634501    2.0\n",
      "634502    4.0\n",
      "634503    4.0\n",
      "634504    4.5\n",
      "634505    4.5\n",
      "Name: review_overall, Length: 634506, dtype: float64\n"
     ]
    },
    {
     "data": {
      "text/plain": [
       "Text(0.5, 1.0, 'Overall Reviews')"
      ]
     },
     "execution_count": 16,
     "metadata": {},
     "output_type": "execute_result"
    },
    {
     "data": {
      "image/png": "[encoded data removed]",
      "text/plain": [
       "<Figure size 432x288 with 1 Axes>"
      ]
     },
     "metadata": {
      "needs_background": "light"
     },
     "output_type": "display_data"
    }
   ],
   "source": [
    "#Overall Reviews\n",
    "print(data['review_overall'])\n",
    "\n",
    "plt.hist(data['review_overall'])\n",
    "plt.title('Overall Reviews')"
   ]
  },
  {
   "cell_type": "code",
   "execution_count": 43,
   "metadata": {},
   "outputs": [
    {
     "name": "stdout",
     "output_type": "stream",
     "text": [
      "<class 'pandas.core.frame.DataFrame'>\n",
      "RangeIndex: 634506 entries, 0 to 634505\n",
      "Data columns (total 9 columns):\n",
      " #   Column              Non-Null Count   Dtype  \n",
      "---  ------              --------------   -----  \n",
      " 0   review_overall      634506 non-null  float64\n",
      " 1   review_aroma        634506 non-null  float64\n",
      " 2   review_appearance   634506 non-null  float64\n",
      " 3   review_profilename  634506 non-null  object \n",
      " 4   beer_style          634506 non-null  object \n",
      " 5   review_palate       634506 non-null  float64\n",
      " 6   review_taste        634506 non-null  float64\n",
      " 7   beer_name           634506 non-null  object \n",
      " 8   beer_beerid         634506 non-null  int64  \n",
      "dtypes: float64(5), int64(1), object(3)\n",
      "memory usage: 43.6+ MB\n"
     ]
    }
   ],
   "source": [
    "data.info()"
   ]
  },
  {
   "cell_type": "code",
   "execution_count": 18,
   "metadata": {},
   "outputs": [
    {
     "name": "stdout",
     "output_type": "stream",
     "text": [
      "0         3.5\n",
      "1         3.0\n",
      "2         3.0\n",
      "3         3.5\n",
      "4         3.5\n",
      "         ... \n",
      "634501    2.0\n",
      "634502    4.0\n",
      "634503    4.0\n",
      "634504    4.0\n",
      "634505    4.0\n",
      "Name: review_aroma, Length: 634506, dtype: float64\n"
     ]
    },
    {
     "data": {
      "text/plain": [
       "Text(0.5, 1.0, 'Taste Aroma')"
      ]
     },
     "execution_count": 18,
     "metadata": {},
     "output_type": "execute_result"
    },
    {
     "data": {
      "image/png": "[encoded data removed]",
      "text/plain": [
       "<Figure size 432x288 with 1 Axes>"
      ]
     },
     "metadata": {
      "needs_background": "light"
     },
     "output_type": "display_data"
    }
   ],
   "source": [
    "#Review Aroma\n",
    "print(data['review_aroma'])\n",
    "\n",
    "plt.hist(data['review_aroma'])\n",
    "plt.title('Taste Aroma')"
   ]
  },
  {
   "cell_type": "code",
   "execution_count": 19,
   "metadata": {},
   "outputs": [
    {
     "name": "stdout",
     "output_type": "stream",
     "text": [
      "0         4.5\n",
      "1         3.0\n",
      "2         3.5\n",
      "3         3.5\n",
      "4         3.0\n",
      "         ... \n",
      "634501    2.5\n",
      "634502    3.5\n",
      "634503    3.5\n",
      "634504    4.5\n",
      "634505    4.0\n",
      "Name: review_appearance, Length: 634506, dtype: float64\n"
     ]
    },
    {
     "data": {
      "text/plain": [
       "Text(0.5, 1.0, 'Taste Appearance')"
      ]
     },
     "execution_count": 19,
     "metadata": {},
     "output_type": "execute_result"
    },
    {
     "data": {
      "image/png": "[encoded data removed]",
      "text/plain": [
       "<Figure size 432x288 with 1 Axes>"
      ]
     },
     "metadata": {
      "needs_background": "light"
     },
     "output_type": "display_data"
    }
   ],
   "source": [
    "#Review Appearance\n",
    "print(data['review_appearance'])\n",
    "\n",
    "plt.hist(data['review_appearance'])\n",
    "plt.title('Taste Appearance')"
   ]
  },
  {
   "cell_type": "code",
   "execution_count": 44,
   "metadata": {},
   "outputs": [
    {
     "name": "stdout",
     "output_type": "stream",
     "text": [
      "0         3.5\n",
      "1         3.0\n",
      "2         2.5\n",
      "3         3.5\n",
      "4         3.0\n",
      "         ... \n",
      "634501    2.0\n",
      "634502    4.5\n",
      "634503    3.5\n",
      "634504    4.0\n",
      "634505    3.0\n",
      "Name: review_palate, Length: 634506, dtype: float64\n"
     ]
    },
    {
     "data": {
      "text/plain": [
       "Text(0.5, 1.0, 'Taste Palate')"
      ]
     },
     "execution_count": 44,
     "metadata": {},
     "output_type": "execute_result"
    },
    {
     "data": {
      "image/png": "[encoded data removed]",
      "text/plain": [
       "<Figure size 432x288 with 1 Axes>"
      ]
     },
     "metadata": {
      "needs_background": "light"
     },
     "output_type": "display_data"
    }
   ],
   "source": [
    "#Review Palate\n",
    "print(data['review_palate'])\n",
    "\n",
    "plt.hist(data['review_palate'])\n",
    "plt.title('Taste Palate')"
   ]
  },
  {
   "cell_type": "code",
   "execution_count": 45,
   "metadata": {},
   "outputs": [
    {
     "name": "stdout",
     "output_type": "stream",
     "text": [
      "0         4.0\n",
      "1         3.0\n",
      "2         2.5\n",
      "3         3.5\n",
      "4         2.5\n",
      "         ... \n",
      "634501    2.0\n",
      "634502    4.5\n",
      "634503    4.0\n",
      "634504    4.0\n",
      "634505    3.0\n",
      "Name: review_taste, Length: 634506, dtype: float64\n"
     ]
    },
    {
     "data": {
      "text/plain": [
       "Text(0.5, 1.0, 'Taste Taste')"
      ]
     },
     "execution_count": 45,
     "metadata": {},
     "output_type": "execute_result"
    },
    {
     "data": {
      "image/png": "[encoded data removed]",
      "text/plain": [
       "<Figure size 432x288 with 1 Axes>"
      ]
     },
     "metadata": {
      "needs_background": "light"
     },
     "output_type": "display_data"
    }
   ],
   "source": [
    "#Review Taste\n",
    "print(data['review_taste'])\n",
    "\n",
    "plt.hist(data['review_taste'])\n",
    "plt.title('Taste Taste')"
   ]
  },
  {
   "cell_type": "code",
   "execution_count": null,
   "metadata": {},
   "outputs": [],
   "source": []
  }
 ],
 "metadata": {
  "kernelspec": {
   "display_name": "Python 3",
   "language": "python",
   "name": "python3"
  },
  "language_info": {
   "codemirror_mode": {
    "name": "ipython",
    "version": 3
   },
   "file_extension": ".py",
   "mimetype": "text/x-python",
   "name": "python",
   "nbconvert_exporter": "python",
   "pygments_lexer": "ipython3",
   "version": "3.8.3"
  }
 },
 "nbformat": 4,
 "nbformat_minor": 4
}
