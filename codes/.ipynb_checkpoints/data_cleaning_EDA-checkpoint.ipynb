{
 "cells": [
  {
   "cell_type": "markdown",
   "metadata": {},
   "source": [
    "# <center>Data Cleaning & EDA</center>"
   ]
  },
  {
   "cell_type": "markdown",
   "metadata": {},
   "source": [
    "#### Original [dataset](https://www.kaggle.com/rdoume/beerreviews?select=beer_reviews.csv) was downloaded from Kaggle\n",
    "- Original data was 171 MB (Over 1 million rows)\n",
    "- I only took a 40% random sample from the orginal data to work with\n",
    "- I previously cleaned prior to loading it into notebook"
   ]
  },
  {
   "cell_type": "code",
   "execution_count": 1,
   "metadata": {},
   "outputs": [],
   "source": [
    "#Imported libraries\n",
    "import string\n",
    "import pandas as pd\n",
    "import numpy as np\n",
    "import matplotlib.pyplot as plt\n",
    "import seaborn as sns\n",
    "\n",
    "%matplotlib inline"
   ]
  },
  {
   "cell_type": "code",
   "execution_count": 2,
   "metadata": {},
   "outputs": [
    {
     "data": {
      "text/html": [
       "<div>\n",
       "<style scoped>\n",
       "    .dataframe tbody tr th:only-of-type {\n",
       "        vertical-align: middle;\n",
       "    }\n",
       "\n",
       "    .dataframe tbody tr th {\n",
       "        vertical-align: top;\n",
       "    }\n",
       "\n",
       "    .dataframe thead th {\n",
       "        text-align: right;\n",
       "    }\n",
       "</style>\n",
       "<table border=\"1\" class=\"dataframe\">\n",
       "  <thead>\n",
       "    <tr style=\"text-align: right;\">\n",
       "      <th></th>\n",
       "      <th>review_profilename</th>\n",
       "      <th>beer_beerid</th>\n",
       "      <th>beer_name</th>\n",
       "      <th>beer_abv</th>\n",
       "      <th>beer_style</th>\n",
       "      <th>review_overall</th>\n",
       "      <th>review_aroma</th>\n",
       "      <th>review_appearance</th>\n",
       "      <th>review_palate</th>\n",
       "      <th>review_taste</th>\n",
       "    </tr>\n",
       "  </thead>\n",
       "  <tbody>\n",
       "    <tr>\n",
       "      <th>0</th>\n",
       "      <td>Nibbley</td>\n",
       "      <td>776</td>\n",
       "      <td>Samichlaus Bier</td>\n",
       "      <td>14.00</td>\n",
       "      <td>Doppelbock</td>\n",
       "      <td>5.0</td>\n",
       "      <td>5.0</td>\n",
       "      <td>5.0</td>\n",
       "      <td>5.0</td>\n",
       "      <td>5.0</td>\n",
       "    </tr>\n",
       "    <tr>\n",
       "      <th>1</th>\n",
       "      <td>BeerTitan</td>\n",
       "      <td>1441</td>\n",
       "      <td>Young's Old Nick Barley Wine Ale</td>\n",
       "      <td>7.20</td>\n",
       "      <td>English Barleywine</td>\n",
       "      <td>4.5</td>\n",
       "      <td>4.5</td>\n",
       "      <td>4.0</td>\n",
       "      <td>4.5</td>\n",
       "      <td>4.0</td>\n",
       "    </tr>\n",
       "    <tr>\n",
       "      <th>2</th>\n",
       "      <td>Morey</td>\n",
       "      <td>46809</td>\n",
       "      <td>Flashback Ale</td>\n",
       "      <td>6.88</td>\n",
       "      <td>American Brown Ale</td>\n",
       "      <td>3.5</td>\n",
       "      <td>3.5</td>\n",
       "      <td>4.0</td>\n",
       "      <td>4.0</td>\n",
       "      <td>3.5</td>\n",
       "    </tr>\n",
       "  </tbody>\n",
       "</table>\n",
       "</div>"
      ],
      "text/plain": [
       "  review_profilename  beer_beerid                         beer_name  beer_abv  \\\n",
       "0            Nibbley          776                   Samichlaus Bier     14.00   \n",
       "1          BeerTitan         1441  Young's Old Nick Barley Wine Ale      7.20   \n",
       "2              Morey        46809                     Flashback Ale      6.88   \n",
       "\n",
       "           beer_style  review_overall  review_aroma  review_appearance  \\\n",
       "0          Doppelbock             5.0           5.0                5.0   \n",
       "1  English Barleywine             4.5           4.5                4.0   \n",
       "2  American Brown Ale             3.5           3.5                4.0   \n",
       "\n",
       "   review_palate  review_taste  \n",
       "0            5.0           5.0  \n",
       "1            4.5           4.0  \n",
       "2            4.0           3.5  "
      ]
     },
     "execution_count": 2,
     "metadata": {},
     "output_type": "execute_result"
    }
   ],
   "source": [
    "data = pd.read_csv('../data/beer_data.csv')\n",
    "data.head(3)"
   ]
  },
  {
   "cell_type": "code",
   "execution_count": 3,
   "metadata": {},
   "outputs": [
    {
     "data": {
      "text/plain": [
       "review_profilename    0\n",
       "beer_beerid           0\n",
       "beer_name             0\n",
       "beer_abv              0\n",
       "beer_style            0\n",
       "review_overall        0\n",
       "review_aroma          0\n",
       "review_appearance     0\n",
       "review_palate         0\n",
       "review_taste          0\n",
       "dtype: int64"
      ]
     },
     "execution_count": 3,
     "metadata": {},
     "output_type": "execute_result"
    }
   ],
   "source": [
    "#Checked for missing values\n",
    "#No missing values, I dropped null values prior to loading data\n",
    "data.isnull().sum()"
   ]
  },
  {
   "cell_type": "code",
   "execution_count": 4,
   "metadata": {},
   "outputs": [
    {
     "data": {
      "text/plain": [
       "(15185, 10)"
      ]
     },
     "execution_count": 4,
     "metadata": {},
     "output_type": "execute_result"
    }
   ],
   "source": [
    "data.shape"
   ]
  },
  {
   "cell_type": "markdown",
   "metadata": {},
   "source": [
    "### Unique Beer Styles"
   ]
  },
  {
   "cell_type": "code",
   "execution_count": 7,
   "metadata": {},
   "outputs": [
    {
     "data": {
      "text/plain": [
       "array(['Doppelbock', 'English Barleywine', 'American Brown Ale',\n",
       "       'Oatmeal Stout', 'Witbier', 'American IPA', 'Tripel',\n",
       "       'American Porter', 'American Strong Ale', 'American Barleywine',\n",
       "       'American Amber / Red Ale', 'Saison / Farmhouse Ale',\n",
       "       'Russian Imperial Stout', 'American Pale Ale (APA)',\n",
       "       'California Common / Steam Beer', 'American Double / Imperial IPA',\n",
       "       'American Amber / Red Lager', 'American Adjunct Lager',\n",
       "       'Quadrupel (Quad)', 'Extra Special / Strong Bitter (ESB)',\n",
       "       'Munich Helles Lager', 'Kölsch', 'Munich Dunkel Lager',\n",
       "       'Belgian Strong Dark Ale', 'Altbier', 'English Brown Ale',\n",
       "       'German Pilsener', 'Rauchbier', 'Dunkelweizen',\n",
       "       'American Double / Imperial Stout', 'American Pale Wheat Ale',\n",
       "       'Dubbel', 'Wheatwine', 'Fruit / Vegetable Beer',\n",
       "       'Flanders Oud Bruin', 'Bock', 'Light Lager',\n",
       "       'Keller Bier / Zwickel Bier', 'Märzen / Oktoberfest',\n",
       "       'American Double / Imperial Pilsner', 'Herbed / Spiced Beer',\n",
       "       'Weizenbock', 'American Pale Lager', 'Irish Dry Stout',\n",
       "       'Flanders Red Ale', 'English Strong Ale', 'Euro Strong Lager',\n",
       "       'American Wild Ale', 'Vienna Lager', 'Lambic - Fruit', 'Rye Beer',\n",
       "       'Irish Red Ale', 'English Porter', 'American Blonde Ale',\n",
       "       'Czech Pilsener', 'Hefeweizen', 'Black & Tan', 'Scottish Ale',\n",
       "       'American Stout', 'Winter Warmer', 'English Pale Ale',\n",
       "       'Baltic Porter', 'Foreign / Export Stout', 'American Black Ale',\n",
       "       'Bière de Garde', 'Belgian Strong Pale Ale',\n",
       "       'Scotch Ale / Wee Heavy', 'Berliner Weissbier', 'Schwarzbier',\n",
       "       'English Bitter', 'Euro Pale Lager', 'Belgian Pale Ale',\n",
       "       'English India Pale Ale (IPA)',\n",
       "       'Scottish Gruit / Ancient Herbed Ale', 'Dortmunder / Export Lager',\n",
       "       'Smoked Beer', 'American Dark Wheat Ale', 'Old Ale',\n",
       "       'English Stout', 'Gueuze', 'Maibock / Helles Bock', 'Pumpkin Ale',\n",
       "       'English Dark Mild Ale', 'Chile Beer', 'Milk / Sweet Stout',\n",
       "       'Euro Dark Lager', 'American Malt Liquor', 'Belgian IPA',\n",
       "       'Kristalweizen', 'Japanese Rice Lager', 'Happoshu', 'Eisbock',\n",
       "       'Cream Ale', 'Faro', 'Low Alcohol Beer', 'Gose',\n",
       "       'Belgian Dark Ale', 'English Pale Mild Ale', 'Braggot',\n",
       "       'Lambic - Unblended', 'Sahti', 'Roggenbier',\n",
       "       'Bière de Champagne / Bière Brut', 'Kvass'], dtype=object)"
      ]
     },
     "execution_count": 7,
     "metadata": {},
     "output_type": "execute_result"
    }
   ],
   "source": [
    "data['beer_style'].unique()"
   ]
  },
  {
   "cell_type": "markdown",
   "metadata": {},
   "source": [
    "### Unique Categorical Data: \n",
    "- review_profilename\n",
    "- beer_style\n",
    "- beer_name"
   ]
  },
  {
   "cell_type": "code",
   "execution_count": 6,
   "metadata": {},
   "outputs": [
    {
     "name": "stdout",
     "output_type": "stream",
     "text": [
      "\n",
      "Frequency of Categories for varible review_profilename\n",
      "\n",
      "northyorksammy    60\n",
      "BuckeyeNation     47\n",
      "oberon            36\n",
      "Thorpe429         35\n",
      "jwc215            33\n",
      "                  ..\n",
      "JM03               1\n",
      "BeerSki            1\n",
      "zhooker            1\n",
      "mac56              1\n",
      "HatTrick           1\n",
      "Name: review_profilename, Length: 5337, dtype: int64\n",
      "----------------\n",
      "\n",
      "Frequency of Categories for varible beer_style\n",
      "\n",
      "American IPA                      1176\n",
      "American Double / Imperial IPA     811\n",
      "American Pale Ale (APA)            612\n",
      "Russian Imperial Stout             521\n",
      "American Porter                    514\n",
      "                                  ... \n",
      "Roggenbier                           6\n",
      "Braggot                              6\n",
      "Happoshu                             4\n",
      "Gose                                 3\n",
      "Kvass                                1\n",
      "Name: beer_style, Length: 104, dtype: int64\n",
      "----------------\n",
      "\n",
      "Frequency of Categories for varible beer_name\n",
      "\n",
      "Sierra Nevada Celebration Ale    39\n",
      "Founders Breakfast Stout         37\n",
      "90 Minute IPA                    34\n",
      "La Fin Du Monde                  32\n",
      "Stone IPA (India Pale Ale)       32\n",
      "                                 ..\n",
      "Tsingtao Stout                    1\n",
      "Tarry Suchong                     1\n",
      "Willoughby Pumpkinhead Ale        1\n",
      "Old Salty Barleywine 2001         1\n",
      "O3 Boss                           1\n",
      "Name: beer_name, Length: 5987, dtype: int64\n",
      "----------------\n"
     ]
    }
   ],
   "source": [
    "#printing column's unique categorical values\n",
    "#modified code StackOverflow\n",
    "\n",
    "categorical_columns = ['review_profilename','beer_style','beer_name']\n",
    "\n",
    "#category frequencies\n",
    "for col in categorical_columns:\n",
    "    print ('\\nFrequency of Categories for varible %s'%col)\n",
    "    print()\n",
    "    print (data[col].value_counts())\n",
    "    print('----------------')\n"
   ]
  },
  {
   "cell_type": "markdown",
   "metadata": {},
   "source": [
    "### EDA on Reviews\n",
    "- review_overall \n",
    "- review_aroma  \n",
    "- review_appearance     \n",
    "- review_palate         \n",
    "- review_taste          "
   ]
  },
  {
   "cell_type": "code",
   "execution_count": 7,
   "metadata": {},
   "outputs": [
    {
     "name": "stdout",
     "output_type": "stream",
     "text": [
      "0        5.0\n",
      "1        4.5\n",
      "2        3.5\n",
      "3        4.0\n",
      "4        5.0\n",
      "        ... \n",
      "15180    3.5\n",
      "15181    3.5\n",
      "15182    4.5\n",
      "15183    4.0\n",
      "15184    3.5\n",
      "Name: review_overall, Length: 15185, dtype: float64\n"
     ]
    },
    {
     "data": {
      "text/plain": [
       "Text(0.5, 1.0, 'Overall Reviews')"
      ]
     },
     "execution_count": 7,
     "metadata": {},
     "output_type": "execute_result"
    },
    {
     "data": {
      "image/png": "[encoded data removed]",
      "text/plain": [
       "<Figure size 432x288 with 1 Axes>"
      ]
     },
     "metadata": {
      "needs_background": "light"
     },
     "output_type": "display_data"
    }
   ],
   "source": [
    "#Overall Reviews\n",
    "print(data['review_overall'])\n",
    "\n",
    "plt.hist(data['review_overall'])\n",
    "plt.title('Overall Reviews')"
   ]
  },
  {
   "cell_type": "code",
   "execution_count": 8,
   "metadata": {},
   "outputs": [
    {
     "name": "stdout",
     "output_type": "stream",
     "text": [
      "<class 'pandas.core.frame.DataFrame'>\n",
      "RangeIndex: 15185 entries, 0 to 15184\n",
      "Data columns (total 10 columns):\n",
      " #   Column              Non-Null Count  Dtype  \n",
      "---  ------              --------------  -----  \n",
      " 0   review_profilename  15185 non-null  object \n",
      " 1   beer_beerid         15185 non-null  int64  \n",
      " 2   beer_name           15185 non-null  object \n",
      " 3   beer_abv            15185 non-null  float64\n",
      " 4   beer_style          15185 non-null  object \n",
      " 5   review_overall      15185 non-null  float64\n",
      " 6   review_aroma        15185 non-null  float64\n",
      " 7   review_appearance   15185 non-null  float64\n",
      " 8   review_palate       15185 non-null  float64\n",
      " 9   review_taste        15185 non-null  float64\n",
      "dtypes: float64(6), int64(1), object(3)\n",
      "memory usage: 1.2+ MB\n"
     ]
    }
   ],
   "source": [
    "data.info()"
   ]
  },
  {
   "cell_type": "code",
   "execution_count": 9,
   "metadata": {},
   "outputs": [
    {
     "name": "stdout",
     "output_type": "stream",
     "text": [
      "0        5.0\n",
      "1        4.5\n",
      "2        3.5\n",
      "3        5.0\n",
      "4        3.5\n",
      "        ... \n",
      "15180    3.0\n",
      "15181    3.5\n",
      "15182    4.0\n",
      "15183    3.5\n",
      "15184    3.0\n",
      "Name: review_aroma, Length: 15185, dtype: float64\n"
     ]
    },
    {
     "data": {
      "text/plain": [
       "Text(0.5, 1.0, 'Taste Aroma')"
      ]
     },
     "execution_count": 9,
     "metadata": {},
     "output_type": "execute_result"
    },
    {
     "data": {
      "image/png": "[encoded data removed]",
      "text/plain": [
       "<Figure size 432x288 with 1 Axes>"
      ]
     },
     "metadata": {
      "needs_background": "light"
     },
     "output_type": "display_data"
    }
   ],
   "source": [
    "#Review Aroma\n",
    "print(data['review_aroma'])\n",
    "\n",
    "plt.hist(data['review_aroma'])\n",
    "plt.title('Taste Aroma')"
   ]
  },
  {
   "cell_type": "code",
   "execution_count": 10,
   "metadata": {},
   "outputs": [
    {
     "name": "stdout",
     "output_type": "stream",
     "text": [
      "0        5.0\n",
      "1        4.0\n",
      "2        4.0\n",
      "3        4.0\n",
      "4        4.0\n",
      "        ... \n",
      "15180    3.5\n",
      "15181    3.5\n",
      "15182    3.5\n",
      "15183    3.5\n",
      "15184    4.0\n",
      "Name: review_appearance, Length: 15185, dtype: float64\n"
     ]
    },
    {
     "data": {
      "text/plain": [
       "Text(0.5, 1.0, 'Taste Appearance')"
      ]
     },
     "execution_count": 10,
     "metadata": {},
     "output_type": "execute_result"
    },
    {
     "data": {
      "image/png": "[encoded data removed]",
      "text/plain": [
       "<Figure size 432x288 with 1 Axes>"
      ]
     },
     "metadata": {
      "needs_background": "light"
     },
     "output_type": "display_data"
    }
   ],
   "source": [
    "#Review Appearance\n",
    "print(data['review_appearance'])\n",
    "\n",
    "plt.hist(data['review_appearance'])\n",
    "plt.title('Taste Appearance')"
   ]
  },
  {
   "cell_type": "code",
   "execution_count": 11,
   "metadata": {},
   "outputs": [
    {
     "name": "stdout",
     "output_type": "stream",
     "text": [
      "0        5.0\n",
      "1        4.5\n",
      "2        4.0\n",
      "3        4.0\n",
      "4        4.5\n",
      "        ... \n",
      "15180    3.0\n",
      "15181    3.5\n",
      "15182    4.0\n",
      "15183    3.5\n",
      "15184    4.0\n",
      "Name: review_palate, Length: 15185, dtype: float64\n"
     ]
    },
    {
     "data": {
      "text/plain": [
       "Text(0.5, 1.0, 'Taste Palate')"
      ]
     },
     "execution_count": 11,
     "metadata": {},
     "output_type": "execute_result"
    },
    {
     "data": {
      "image/png": "[encoded data removed]",
      "text/plain": [
       "<Figure size 432x288 with 1 Axes>"
      ]
     },
     "metadata": {
      "needs_background": "light"
     },
     "output_type": "display_data"
    }
   ],
   "source": [
    "#Review Palate\n",
    "print(data['review_palate'])\n",
    "\n",
    "plt.hist(data['review_palate'])\n",
    "plt.title('Taste Palate')"
   ]
  },
  {
   "cell_type": "code",
   "execution_count": 12,
   "metadata": {},
   "outputs": [
    {
     "name": "stdout",
     "output_type": "stream",
     "text": [
      "0        5.0\n",
      "1        4.0\n",
      "2        3.5\n",
      "3        3.5\n",
      "4        4.5\n",
      "        ... \n",
      "15180    3.5\n",
      "15181    4.0\n",
      "15182    3.5\n",
      "15183    3.5\n",
      "15184    3.0\n",
      "Name: review_taste, Length: 15185, dtype: float64\n"
     ]
    },
    {
     "data": {
      "text/plain": [
       "Text(0.5, 1.0, 'Taste Taste')"
      ]
     },
     "execution_count": 12,
     "metadata": {},
     "output_type": "execute_result"
    },
    {
     "data": {
      "image/png": "[encoded data removed]",
      "text/plain": [
       "<Figure size 432x288 with 1 Axes>"
      ]
     },
     "metadata": {
      "needs_background": "light"
     },
     "output_type": "display_data"
    }
   ],
   "source": [
    "#Review Taste\n",
    "print(data['review_taste'])\n",
    "\n",
    "plt.hist(data['review_taste'])\n",
    "plt.title('Taste Taste')"
   ]
  },
  {
   "cell_type": "code",
   "execution_count": 13,
   "metadata": {},
   "outputs": [
    {
     "data": {
      "text/plain": [
       "<matplotlib.axes._subplots.AxesSubplot at 0x7fdbe831da90>"
      ]
     },
     "execution_count": 13,
     "metadata": {},
     "output_type": "execute_result"
    },
    {
     "data": {
      "image/png": "[encoded data removed]",
      "text/plain": [
       "<Figure size 432x288 with 1 Axes>"
      ]
     },
     "metadata": {
      "needs_background": "light"
     },
     "output_type": "display_data"
    }
   ],
   "source": [
    "beer = data['beer_style']\n",
    "pd.Series(beer).value_counts()[:31].plot(kind=\"bar\")\n"
   ]
  },
  {
   "cell_type": "code",
   "execution_count": 24,
   "metadata": {},
   "outputs": [
    {
     "data": {
      "text/plain": [
       "Text(0.5, 1.0, 'Histogram of Review Counts')"
      ]
     },
     "execution_count": 24,
     "metadata": {},
     "output_type": "execute_result"
    },
    {
     "data": {
      "image/png": "[encoded data removed]",
      "text/plain": [
       "<Figure size 432x288 with 2 Axes>"
      ]
     },
     "metadata": {
      "needs_background": "light"
     },
     "output_type": "display_data"
    }
   ],
   "source": [
    "# This histogram isn't applicable \n",
    "data= data['beer_style'].value_counts()\n",
    "\n",
    "# Plotting hist without kde\n",
    "ax = sns.distplot(data, bins=40, kde=False)\n",
    "\n",
    "# Creating another Y axis\n",
    "second_ax = ax.twinx()\n",
    "\n",
    "# Plotting kde without hist on the second Y axis\n",
    "sns.distplot(data, ax=second_ax, kde=True, hist=False)\n",
    "\n",
    "#Removing Y ticks from the second axis\n",
    "second_ax.set_yticks([])\n",
    "\n",
    "# Set labels\n",
    "ax.set_xlabel('Ratings')\n",
    "ax.set_ylabel('Beers')\n",
    "ax.set_title(\"Histogram of Review Counts\")"
   ]
  },
  {
   "cell_type": "code",
   "execution_count": null,
   "metadata": {},
   "outputs": [],
   "source": []
  },
  {
   "cell_type": "code",
   "execution_count": null,
   "metadata": {},
   "outputs": [],
   "source": []
  }
 ],
 "metadata": {
  "kernelspec": {
   "display_name": "Python 3",
   "language": "python",
   "name": "python3"
  },
  "language_info": {
   "codemirror_mode": {
    "name": "ipython",
    "version": 3
   },
   "file_extension": ".py",
   "mimetype": "text/x-python",
   "name": "python",
   "nbconvert_exporter": "python",
   "pygments_lexer": "ipython3",
   "version": "3.8.3"
  }
 },
 "nbformat": 4,
 "nbformat_minor": 4
}
