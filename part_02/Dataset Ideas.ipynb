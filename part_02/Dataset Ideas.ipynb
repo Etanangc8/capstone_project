{
 "cells": [
  {
   "cell_type": "markdown",
   "metadata": {},
   "source": [
    "# Datasets of interest & Resources"
   ]
  },
  {
   "cell_type": "markdown",
   "metadata": {},
   "source": [
    "RECOMMENDER SYSTEMS: \n",
    "- https://dl.gi.de/bitstream/handle/20.500.12116/19012/170.pdf?sequence=1\n",
    "- http://ismir2005.ismir.net/proceedings/3119.pdf"
   ]
  },
  {
   "cell_type": "markdown",
   "metadata": {},
   "source": [
    "**Beer review datasets:**\n",
    "- https://www.kaggle.com/joykim92/beerscsv\n",
    "- https://www.kaggle.com/rdoume/beerreviews\n",
    "- https://www.kaggle.com/nickhould/craft-cans\n",
    "- https://www.kaggle.com/devvindan/beer-consumption-in-20182019\n",
    "- http://www.recommend.beer/\n",
    "- https://medium.com/@medfordxie/what-to-drink-next-a-simple-beer-recommendation-system-using-collaborative-filtering-b65dd32b600d\n",
    "- https://blog.galvanize.com/beer-recommender/\n",
    "- https://www.cs.uml.edu/ecg/uploads/AIfall14/allen_wetherbee_beerme_recommendation.pdf\n",
    "- https://nycdatascience.com/blog/student-works/ninkasi-beer-recommender-system/"
   ]
  },
  {
   "cell_type": "markdown",
   "metadata": {},
   "source": [
    "**Music/ song recommender:**\n",
    "\n",
    "**- Music/Audio Recommendation Systems**\n",
    "Can you tell if two songs are similar using their sound or lyrics?\n",
    "Dataset: Million Songs Dataset and it’s 1% sample.\n",
    "Example: Anusha et al\n",
    "- http://millionsongdataset.com/\n",
    "- https://cs224d.stanford.edu/reports/BalakrishnanDixit.pdf\n",
    "\n",
    "**- Music Genre recognition using neural networks**\n",
    "Can you identify the musical genre using their spectrograms or other sound information?\n",
    "Datasets: FMA or GTZAN on Keras\n",
    "Get started with Librosa for feature extraction\n",
    "- https://github.com/mdeff/fma\n",
    "- https://github.com/Hguimaraes/gtzan.keras\n",
    "- https://librosa.github.io/librosa/index.html\n",
    "- https://towardsdatascience.com/how-to-generate-music-using-a-lstm-neural-network-in-keras-68786834d4c5\n",
    "\n",
    "---\n",
    "- https://towardsdatascience.com/how-to-build-a-simple-song-recommender-296fcbc8c85\n",
    "- https://www.frontiersin.org/articles/10.3389/fams.2019.00044/full\n",
    "- https://towardsdatascience.com/create-music-recommendation-system-using-python-ce5401317159\n",
    "- https://www.sciencedirect.com/science/article/pii/S1877050919310646\n",
    "- https://www.kaggle.com/insiyeah/musicfeatures"
   ]
  },
  {
   "cell_type": "markdown",
   "metadata": {},
   "source": [
    "# Resources & APIs"
   ]
  },
  {
   "cell_type": "markdown",
   "metadata": {},
   "source": [
    "Beer websites with ratings (with APIs)\n",
    "- https://rapidapi.com/blog/best-beer-wine-alcohol-api/ \n",
    "- https://untappd.com/api/docs"
   ]
  },
  {
   "cell_type": "code",
   "execution_count": null,
   "metadata": {},
   "outputs": [],
   "source": []
  }
 ],
 "metadata": {
  "kernelspec": {
   "display_name": "Python [conda env:dsi] *",
   "language": "python",
   "name": "conda-env-dsi-py"
  },
  "language_info": {
   "codemirror_mode": {
    "name": "ipython",
    "version": 3
   },
   "file_extension": ".py",
   "mimetype": "text/x-python",
   "name": "python",
   "nbconvert_exporter": "python",
   "pygments_lexer": "ipython3",
   "version": "3.7.6"
  }
 },
 "nbformat": 4,
 "nbformat_minor": 4
}
