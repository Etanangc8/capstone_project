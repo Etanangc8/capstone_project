{
 "cells": [
  {
   "cell_type": "markdown",
   "metadata": {},
   "source": [
    "<h1><center>Capstone Project Ideas (Phase 1)</center></h1>\n"
   ]
  },
  {
   "cell_type": "markdown",
   "metadata": {},
   "source": [
    "### Key Points:"
   ]
  },
  {
   "cell_type": "markdown",
   "metadata": {},
   "source": [
    "1. What is your problem statement? What will you actually be doing?\n",
    "2. Who is your audience? Why will they care?\n",
    "3. What is your success metric? How will you know if you are actually solving the problem in a useful way?\n",
    "4. What is your data source? What format is your data in? How much cleaning and munging will be required?\n",
    "5. What are potential challenges or obstacles and how will you mitigate them?\n",
    "6. Is this a reasonable project given the time constraints that you have?"
   ]
  },
  {
   "cell_type": "markdown",
   "metadata": {},
   "source": [
    "### Idea 1: Adult attention span"
   ]
  },
  {
   "cell_type": "markdown",
   "metadata": {},
   "source": [
    "*Problem statement 1:* Does attention span decrease as age increases?"
   ]
  },
  {
   "cell_type": "markdown",
   "metadata": {},
   "source": [
    "*Problem statement (option 2) 1:* Does attention span decrease overtime due to the increased amount of multitasking? "
   ]
  },
  {
   "cell_type": "markdown",
   "metadata": {},
   "source": [
    "*Success metrics:* an app that stimulates focus..?"
   ]
  },
  {
   "cell_type": "markdown",
   "metadata": {},
   "source": [
    "*Audience:* Working adults, adults with attention disorders, adults who have children with attentional distractions/ disorders"
   ]
  },
  {
   "cell_type": "markdown",
   "metadata": {},
   "source": [
    "*Possible datasets:*\n",
    "- https://www.kaggle.com/osmi/mental-health-in-tech-survey\n",
    "- https://www.kaggle.com/canaria/5-gamers"
   ]
  },
  {
   "cell_type": "markdown",
   "metadata": {},
   "source": [
    "### Idea 2: Music & mood"
   ]
  },
  {
   "cell_type": "markdown",
   "metadata": {},
   "source": [
    "*Problem statement 2:* Can we predict the probability of you choosing a happy/sad song based on your mood?"
   ]
  },
  {
   "cell_type": "markdown",
   "metadata": {},
   "source": [
    "*Successful metrics:* Specificity. Maybe try to create/ conceptualize a song generator based on mood?"
   ]
  },
  {
   "cell_type": "markdown",
   "metadata": {},
   "source": [
    "*Audience:* generally anyone who listens to music"
   ]
  },
  {
   "cell_type": "markdown",
   "metadata": {},
   "source": [
    "Pull data: \n",
    "- Spotify\n",
    "- Pandora\n",
    "- Apple music\n",
    "- Amazon music"
   ]
  },
  {
   "cell_type": "markdown",
   "metadata": {},
   "source": [
    "*Potential Datasets, 2:* \n",
    "- https://www.kaggle.com/insiyeah/musicfeatures\n",
    "- https://www.kaggle.com/jerrytohvan/music-and-mental-health-data\n",
    "- https://www.kaggle.com/theoverman/the-spotify-hit-predictor-dataset (song hit predictor)"
   ]
  },
  {
   "cell_type": "markdown",
   "metadata": {},
   "source": [
    "### Idea 3: Diminishig workplace productivity & Sleep (or work-life balance)"
   ]
  },
  {
   "cell_type": "markdown",
   "metadata": {},
   "source": [
    "*Problem statement 3: Can we predict the amount of sleep you get on a nightly average, based on your workplace productivity? "
   ]
  },
  {
   "cell_type": "markdown",
   "metadata": {},
   "source": [
    "*Problem statement (option 2) 3: Can we predict your workplace productivity, based on your work-life balance?"
   ]
  },
  {
   "cell_type": "markdown",
   "metadata": {},
   "source": [
    "*Success metrics:* \n",
    "- try to provide general information to company heads on successful \"hours of work\" per day?\n",
    "- help build a model or better system to help (enforce) companies/ hospitals prevent overworked employees to continue with the overall success (which would be mandatory per company)\n",
    "- Sensitivity?"
   ]
  },
  {
   "cell_type": "markdown",
   "metadata": {},
   "source": [
    "*Audience:* \n",
    "- Executives, HR\n",
    "- hospital executives, staff"
   ]
  },
  {
   "cell_type": "markdown",
   "metadata": {},
   "source": [
    "*Potential Datasets, 3:*\n",
    "- https://www.kaggle.com/pavansubhasht/ibm-hr-analytics-attrition-dataset\n",
    "- https://www.kaggle.com/feraco/sleep-deprivation\n",
    "- https://www.kaggle.com/canaria/5-gamers\n"
   ]
  }
 ],
 "metadata": {
  "kernelspec": {
   "display_name": "Python [conda env:dsi] *",
   "language": "python",
   "name": "conda-env-dsi-py"
  },
  "language_info": {
   "codemirror_mode": {
    "name": "ipython",
    "version": 3
   },
   "file_extension": ".py",
   "mimetype": "text/x-python",
   "name": "python",
   "nbconvert_exporter": "python",
   "pygments_lexer": "ipython3",
   "version": "3.7.6"
  }
 },
 "nbformat": 4,
 "nbformat_minor": 4
}
