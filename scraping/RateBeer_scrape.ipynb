{
 "cells": [
  {
   "cell_type": "markdown",
   "metadata": {},
   "source": [
    "# Rate Beer Srape"
   ]
  },
  {
   "cell_type": "markdown",
   "metadata": {},
   "source": [
    "*NOTE: Code is currently not working properly to scrape"
   ]
  },
  {
   "cell_type": "code",
   "execution_count": 6,
   "metadata": {},
   "outputs": [],
   "source": [
    "from selenium.webdriver import Chrome\n",
    "from selenium import webdriver\n",
    "from selenium.webdriver.chrome.options import Options\n",
    "from time import sleep\n",
    "from bs4 import BeautifulSoup\n",
    "import pandas as pd"
   ]
  },
  {
   "cell_type": "code",
   "execution_count": 13,
   "metadata": {},
   "outputs": [],
   "source": [
    "options = Options()\n",
    "options.headless = True\n",
    "options = webdriver.ChromeOptions()\n",
    "options.add_argument(\"--incognito\")\n",
    "driver = webdriver.Chrome(executable_path='./chromedriver/macos/chromedriver', options=options)\n",
    "#driver = webdriver.Chrome(executable_path='./chromedriver/macos/chromedriver')"
   ]
  },
  {
   "cell_type": "code",
   "execution_count": null,
   "metadata": {},
   "outputs": [],
   "source": [
    "# url = ''"
   ]
  },
  {
   "cell_type": "code",
   "execution_count": null,
   "metadata": {},
   "outputs": [],
   "source": [
    "# email = 'admin@phptravels.com'\n",
    "# password = 'demoadmin'"
   ]
  },
  {
   "cell_type": "code",
   "execution_count": null,
   "metadata": {},
   "outputs": [],
   "source": [
    "# email_field = driver.find_element_by_name(\"email\")\n",
    "# email_field.send_keys(email)\n",
    "# # set sleep to create delays to the next code\n",
    "# sleep(2)"
   ]
  },
  {
   "cell_type": "code",
   "execution_count": null,
   "metadata": {},
   "outputs": [],
   "source": [
    "# password_field = driver.find_element_by_name(\"password\")\n",
    "# password_field.send_keys(password)\n",
    "# # set sleep to create delays to the next code\n",
    "# sleep(2)"
   ]
  },
  {
   "cell_type": "code",
   "execution_count": 14,
   "metadata": {},
   "outputs": [],
   "source": [
    "# login_btn = driver.find_element_by_class_name(\"ladda-label\")\n",
    "# login_btn.click()\n",
    "# # Wait to logging in \n",
    "# # without this sleep, you will fetch pre-login page as your page_source below\n",
    "# sleep(3)"
   ]
  },
  {
   "cell_type": "code",
   "execution_count": 15,
   "metadata": {},
   "outputs": [],
   "source": [
    "url = 'https://www.ratebeer.com/breweries/virginia/46/213/'\n",
    "# 'https://www.ratebeer.com/breweries/washington%20dc/48/213/'\n",
    "# 'https://www.ratebeer.com/breweries/maryland/20/213/'"
   ]
  },
  {
   "cell_type": "code",
   "execution_count": 16,
   "metadata": {},
   "outputs": [],
   "source": [
    "driver.get(url)"
   ]
  },
  {
   "cell_type": "code",
   "execution_count": 20,
   "metadata": {},
   "outputs": [],
   "source": [
    "html = driver.page_source\n",
    "# Beautiful Soup it!\n",
    "html = BeautifulSoup(html, 'lxml')"
   ]
  },
  {
   "cell_type": "code",
   "execution_count": 21,
   "metadata": {},
   "outputs": [],
   "source": [
    "table = html.find('table', {'id': 'brewerTable'})"
   ]
  },
  {
   "cell_type": "code",
   "execution_count": 17,
   "metadata": {},
   "outputs": [],
   "source": [
    "# table.find_all('th', {'class': 'xcrud-column xcrud-action'})"
   ]
  },
  {
   "cell_type": "code",
   "execution_count": 23,
   "metadata": {},
   "outputs": [],
   "source": [
    "region_brews = []\n",
    "    \n",
    "for i in range(len(table.find_all('a'))):\n",
    "    brewery = {}\n",
    "    \n",
    "    if i % 2 == 0:\n",
    "        brewery['name'] = table.find_all('a')[i].text\n",
    "        brewery['link'] = f\"http://www.ratebeer.com{table.find_all('a')[i]['href']}\"\n",
    "    else:\n",
    "        continue\n",
    "        region_brews.append(brewery)\n",
    "        \n",
    "    sleep(10)"
   ]
  },
  {
   "cell_type": "code",
   "execution_count": 26,
   "metadata": {},
   "outputs": [],
   "source": [
    "allbrews = []\n",
    "    \n",
    "for brewery in region_brews:\n",
    "        \n",
    "    driver.get(brewery['link'])\n",
    "    sleep(10)\n",
    "    \n",
    "    html = driver.page_source\n",
    "    soup = BeautifulSoup(html, 'lxml')\n",
    "        \n",
    "    try:\n",
    "          brewery['town'] = soup.find('a',{'title':'View beermap'}).find('span',{'itemprop':'addressLocality'}).text\n",
    "    except:\n",
    "        brewery['town'] = None\n",
    "    try:\n",
    "        brewery['state'] = soup.find('a',{'title':'View beermap'}).find('span',{'itemprop':'addressRegion'}).text\n",
    "    except:\n",
    "        brewery['state'] = None    \n",
    "        \n",
    "    table = soup.find('table',{'id':'brewer-beer-table'})\n",
    "\n"
   ]
  },
  {
   "cell_type": "code",
   "execution_count": 35,
   "metadata": {},
   "outputs": [],
   "source": [
    "driver.close()"
   ]
  },
  {
   "cell_type": "code",
   "execution_count": 34,
   "metadata": {},
   "outputs": [
    {
     "ename": "SyntaxError",
     "evalue": "invalid syntax (<ipython-input-34-f32903af46a0>, line 7)",
     "output_type": "error",
     "traceback": [
      "\u001b[0;36m  File \u001b[0;32m\"<ipython-input-34-f32903af46a0>\"\u001b[0;36m, line \u001b[0;32m7\u001b[0m\n\u001b[0;31m    newlink = f'http://www.ratebeer.com{soup.find_all('b')[-1].find('a')['href']}'\u001b[0m\n\u001b[0m                                                                     ^\u001b[0m\n\u001b[0;31mSyntaxError\u001b[0m\u001b[0;31m:\u001b[0m invalid syntax\n"
     ]
    }
   ],
   "source": [
    "# beermenu = []\n",
    "# try:\n",
    "#     table.find('tbody').find_all('tr')       \n",
    "\n",
    "# except:\n",
    "#     try:\n",
    "#         newlink = f'http://www.ratebeer.com{soup.find_all('b')[-1].find('a')['href']}'\n",
    "#         driver.get(newlink)\n",
    "#         sleep(10)\n",
    "            \n",
    "#         html = driver.page_source\n",
    "#         soup = BeautifulSoup(html, 'lxml')\n",
    "\n",
    "#         table = soup.find('table',{'id':'brewer-beer-table'})\n",
    "    \n",
    "#     except:\n",
    "#         continue\n",
    "\n",
    "# for row in table.find('tbody').find_all('tr'):\n",
    "#     beer = {}\n",
    "#     beer['name'] = row.find('a').text\n",
    "#     beer['style'] = row.find('span').text\n",
    "#     beer['link'] = f'www.ratebeer.com{row.find('a')['href']}'\n",
    "#     beer['brewery'] = brewery['name']\n",
    "#     beer['town'] = brewery['town']\n",
    "#     beer['state'] = brewery['state']\n",
    "\n",
    "#     try:\n",
    "#         beer['style_rating'] = float(row.find_all('td')[-2].text)\n",
    "#     except:\n",
    "#         beer['style_rating'] = None\n",
    "#     try:\n",
    "#         beer['abv'] = round(float(row.find('td',{'class':'hidden-xs'}).text)/100,3)\n",
    "#     except:\n",
    "#         beer['abv'] = None\n",
    "#     try:\n",
    "#         beer['rating'] = float(row.find_all('td')[-3].text)\n",
    "#     except:\n",
    "#         beer['rating'] = None\n",
    "#     try:\n",
    "#         beer['num_ratings'] = int(row.find_all('td',{'class':'text-left'})[-1].text)\n",
    "#     except:        \n",
    "#         beer['num_ratings'] = 0\n",
    "            \n",
    "#     beerlist.append(beer)\n",
    "\n",
    "# allbrews.extend(beerlist)\n"
   ]
  },
  {
   "cell_type": "code",
   "execution_count": null,
   "metadata": {},
   "outputs": [],
   "source": [
    "# brewlist = pd.DataFrame(allbrews)\n",
    "\n",
    "# brewlist.to_csv(f'./data/brewlist_{state[\"name\"]}.csv',index=False)\n",
    "\n",
    "# driver.close()"
   ]
  },
  {
   "cell_type": "code",
   "execution_count": null,
   "metadata": {},
   "outputs": [],
   "source": [
    "# cols = []\n",
    "# brews = []\n",
    "# # Set the column names \n",
    "# for col in table.find_all('th', {'class': 'xcrud-column xcrud-action'}):\n",
    "#     cols.append(col.text)\n",
    "# print(\"Column names: \", cols)\n",
    "# # Fetch table contents\n",
    "# for row in table.find('tbody').find_all('tr'):\n",
    "#     cells = row.find_all('td')\n",
    "#     # Start with an empty travel dictionary\n",
    "#     travel = {}\n",
    "#     # Add values from our cells\n",
    "#     brew['Beer Name'] = cells[3].text    \n",
    "#     brew['link'] = cells[4].text\n",
    "#     brew['state'] = cells[5].text\n",
    "#     brew['town'] = cells[6].text\n",
    "#     brew['rating'] = cells[7].text\n",
    "   \n",
    "\n",
    "#     #Add the travel dictionary to the list of travels\n",
    "#     brews.append(brew)"
   ]
  },
  {
   "cell_type": "code",
   "execution_count": null,
   "metadata": {},
   "outputs": [],
   "source": [
    "# df = pd.DataFrame(brews, columns=cols)\n",
    "# df.head()"
   ]
  },
  {
   "cell_type": "code",
   "execution_count": 19,
   "metadata": {},
   "outputs": [],
   "source": []
  },
  {
   "cell_type": "code",
   "execution_count": null,
   "metadata": {},
   "outputs": [],
   "source": []
  }
 ],
 "metadata": {
  "kernelspec": {
   "display_name": "Python 3",
   "language": "python",
   "name": "python3"
  },
  "language_info": {
   "codemirror_mode": {
    "name": "ipython",
    "version": 3
   },
   "file_extension": ".py",
   "mimetype": "text/x-python",
   "name": "python",
   "nbconvert_exporter": "python",
   "pygments_lexer": "ipython3",
   "version": "3.7.4"
  }
 },
 "nbformat": 4,
 "nbformat_minor": 2
}
