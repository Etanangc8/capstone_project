{
 "cells": [
  {
   "cell_type": "markdown",
   "metadata": {},
   "source": [
    "# <center>Recommender System: With Pairwise</center>"
   ]
  },
  {
   "cell_type": "code",
   "execution_count": 2,
   "metadata": {},
   "outputs": [],
   "source": [
    "import pandas as pd\n",
    "from scipy import sparse\n",
    "from sklearn.metrics.pairwise import pairwise_distances, cosine_similarity\n",
    "import sys"
   ]
  },
  {
   "cell_type": "code",
   "execution_count": 35,
   "metadata": {},
   "outputs": [
    {
     "data": {
      "text/html": [
       "<div>\n",
       "<style scoped>\n",
       "    .dataframe tbody tr th:only-of-type {\n",
       "        vertical-align: middle;\n",
       "    }\n",
       "\n",
       "    .dataframe tbody tr th {\n",
       "        vertical-align: top;\n",
       "    }\n",
       "\n",
       "    .dataframe thead th {\n",
       "        text-align: right;\n",
       "    }\n",
       "</style>\n",
       "<table border=\"1\" class=\"dataframe\">\n",
       "  <thead>\n",
       "    <tr style=\"text-align: right;\">\n",
       "      <th></th>\n",
       "      <th>review_profilename</th>\n",
       "      <th>beer_beerid</th>\n",
       "      <th>beer_name</th>\n",
       "      <th>beer_abv</th>\n",
       "      <th>beer_style</th>\n",
       "      <th>review_overall</th>\n",
       "      <th>review_aroma</th>\n",
       "      <th>review_appearance</th>\n",
       "      <th>review_palate</th>\n",
       "      <th>review_taste</th>\n",
       "      <th>km_labels</th>\n",
       "    </tr>\n",
       "  </thead>\n",
       "  <tbody>\n",
       "    <tr>\n",
       "      <th>0</th>\n",
       "      <td>Nibbley</td>\n",
       "      <td>776</td>\n",
       "      <td>Samichlaus Bier</td>\n",
       "      <td>14.0</td>\n",
       "      <td>Doppelbock</td>\n",
       "      <td>5.0</td>\n",
       "      <td>5.0</td>\n",
       "      <td>5.0</td>\n",
       "      <td>5.0</td>\n",
       "      <td>5.0</td>\n",
       "      <td>1</td>\n",
       "    </tr>\n",
       "  </tbody>\n",
       "</table>\n",
       "</div>"
      ],
      "text/plain": [
       "  review_profilename  beer_beerid        beer_name  beer_abv  beer_style  \\\n",
       "0            Nibbley          776  Samichlaus Bier      14.0  Doppelbock   \n",
       "\n",
       "   review_overall  review_aroma  review_appearance  review_palate  \\\n",
       "0             5.0           5.0                5.0            5.0   \n",
       "\n",
       "   review_taste  km_labels  \n",
       "0           5.0          1  "
      ]
     },
     "execution_count": 35,
     "metadata": {},
     "output_type": "execute_result"
    }
   ],
   "source": [
    "#read in data\n",
    "km_df = pd.read_csv('../data/km_data.csv')\n",
    "km_df.head(1)"
   ]
  },
  {
   "cell_type": "code",
   "execution_count": 36,
   "metadata": {},
   "outputs": [],
   "source": [
    "#Lowercased items in 'beer_style' column\n",
    "km_df['beer_style'] = km_df['beer_style'].map(lambda x: x.strip().lower())"
   ]
  },
  {
   "cell_type": "code",
   "execution_count": 37,
   "metadata": {},
   "outputs": [],
   "source": [
    "# features = ['review_overall', \n",
    "#           'review_aroma', \n",
    "#           'review_appearance', \n",
    "#           'review_palate', \n",
    "#           'review_taste', \n",
    "#           'km_labels']\n",
    "pivot = km_df.pivot_table(index='beer_style',\n",
    "                         columns='review_profilename',\n",
    "                         values='km_labels')"
   ]
  },
  {
   "cell_type": "markdown",
   "metadata": {},
   "source": [
    "### Sparse Marix"
   ]
  },
  {
   "cell_type": "code",
   "execution_count": 38,
   "metadata": {},
   "outputs": [],
   "source": [
    "pivot_sparse = sparse.csr_matrix(pivot.fillna(0))"
   ]
  },
  {
   "cell_type": "code",
   "execution_count": 39,
   "metadata": {},
   "outputs": [
    {
     "name": "stdout",
     "output_type": "stream",
     "text": [
      "(104, 5337)\n",
      "----\n",
      "(104, 5337)\n"
     ]
    }
   ],
   "source": [
    "#checking to see if the they have the same dimensions\n",
    "print(pivot_sparse.shape)\n",
    "print('----')\n",
    "print(pivot.shape)"
   ]
  },
  {
   "cell_type": "code",
   "execution_count": 40,
   "metadata": {},
   "outputs": [
    {
     "name": "stdout",
     "output_type": "stream",
     "text": [
      "4448179\n",
      "----\n",
      "48\n"
     ]
    }
   ],
   "source": [
    "#checking system size conversion\n",
    "print(sys.getsizeof(pivot))\n",
    "print('----')\n",
    "print(sys.getsizeof(pivot_sparse))"
   ]
  },
  {
   "cell_type": "code",
   "execution_count": 41,
   "metadata": {
    "collapsed": true
   },
   "outputs": [
    {
     "name": "stdout",
     "output_type": "stream",
     "text": [
      "  (0, 293)\t3.5\n",
      "  (0, 388)\t3.0\n",
      "  (0, 606)\t10.0\n",
      "  (0, 610)\t3.0\n",
      "  (0, 614)\t6.0\n",
      "  (0, 649)\t1.0\n",
      "  (0, 680)\t4.0\n",
      "  (0, 711)\t5.0\n",
      "  (0, 822)\t2.0\n",
      "  (0, 853)\t3.0\n",
      "  (0, 927)\t5.0\n",
      "  (0, 1262)\t5.0\n",
      "  (0, 1444)\t8.0\n",
      "  (0, 1538)\t5.0\n",
      "  (0, 1597)\t10.0\n",
      "  (0, 1699)\t1.0\n",
      "  (0, 1722)\t6.0\n",
      "  (0, 1736)\t7.0\n",
      "  (0, 1779)\t5.0\n",
      "  (0, 1797)\t4.0\n",
      "  (0, 1810)\t5.0\n",
      "  (0, 1877)\t5.0\n",
      "  (0, 1950)\t1.0\n",
      "  (0, 1968)\t3.0\n",
      "  (0, 2011)\t5.0\n",
      "  :\t:\n",
      "  (103, 4741)\t5.0\n",
      "  (103, 4798)\t6.0\n",
      "  (103, 4825)\t4.0\n",
      "  (103, 4832)\t4.0\n",
      "  (103, 4845)\t6.0\n",
      "  (103, 4851)\t6.0\n",
      "  (103, 4914)\t6.0\n",
      "  (103, 4927)\t6.0\n",
      "  (103, 4964)\t7.0\n",
      "  (103, 4995)\t4.0\n",
      "  (103, 4996)\t10.0\n",
      "  (103, 5025)\t2.0\n",
      "  (103, 5031)\t6.0\n",
      "  (103, 5060)\t5.0\n",
      "  (103, 5101)\t3.0\n",
      "  (103, 5107)\t5.0\n",
      "  (103, 5207)\t10.0\n",
      "  (103, 5221)\t3.0\n",
      "  (103, 5243)\t7.0\n",
      "  (103, 5244)\t10.0\n",
      "  (103, 5289)\t4.0\n",
      "  (103, 5292)\t5.0\n",
      "  (103, 5302)\t4.0\n",
      "  (103, 5317)\t5.0\n",
      "  (103, 5332)\t7.0\n"
     ]
    },
    {
     "data": {
      "text/plain": [
       "scipy.sparse.csr.csr_matrix"
      ]
     },
     "execution_count": 41,
     "metadata": {},
     "output_type": "execute_result"
    }
   ],
   "source": [
    "print(pivot_sparse)\n",
    "type(pivot_sparse)"
   ]
  },
  {
   "cell_type": "markdown",
   "metadata": {},
   "source": [
    "### Cosine Similarity"
   ]
  },
  {
   "cell_type": "code",
   "execution_count": 42,
   "metadata": {},
   "outputs": [],
   "source": [
    "recommender = pairwise_distances(pivot_sparse, metric='cosine')"
   ]
  },
  {
   "cell_type": "code",
   "execution_count": 43,
   "metadata": {},
   "outputs": [
    {
     "data": {
      "text/plain": [
       "(104, 104)"
      ]
     },
     "execution_count": 43,
     "metadata": {},
     "output_type": "execute_result"
    }
   ],
   "source": [
    "recommender.shape"
   ]
  },
  {
   "cell_type": "code",
   "execution_count": 44,
   "metadata": {},
   "outputs": [
    {
     "data": {
      "text/plain": [
       "array([[0.        , 0.92026274, 0.95430073, ..., 0.9732547 , 0.95965707,\n",
       "        0.99026472],\n",
       "       [0.92026274, 0.        , 0.90577457, ..., 0.98338908, 0.97252677,\n",
       "        0.94428701],\n",
       "       [0.95430073, 0.90577457, 0.        , ..., 0.9653799 , 0.91392786,\n",
       "        0.92474902],\n",
       "       ...,\n",
       "       [0.9732547 , 0.98338908, 0.9653799 , ..., 0.        , 0.93797312,\n",
       "        0.94662761],\n",
       "       [0.95965707, 0.97252677, 0.91392786, ..., 0.93797312, 0.        ,\n",
       "        0.91372916],\n",
       "       [0.99026472, 0.94428701, 0.92474902, ..., 0.94662761, 0.91372916,\n",
       "        0.        ]])"
      ]
     },
     "execution_count": 44,
     "metadata": {},
     "output_type": "execute_result"
    }
   ],
   "source": [
    "#Creating distances\n",
    "recommender"
   ]
  },
  {
   "cell_type": "code",
   "execution_count": 46,
   "metadata": {},
   "outputs": [
    {
     "data": {
      "text/html": [
       "<div>\n",
       "<style scoped>\n",
       "    .dataframe tbody tr th:only-of-type {\n",
       "        vertical-align: middle;\n",
       "    }\n",
       "\n",
       "    .dataframe tbody tr th {\n",
       "        vertical-align: top;\n",
       "    }\n",
       "\n",
       "    .dataframe thead th {\n",
       "        text-align: right;\n",
       "    }\n",
       "</style>\n",
       "<table border=\"1\" class=\"dataframe\">\n",
       "  <thead>\n",
       "    <tr style=\"text-align: right;\">\n",
       "      <th>beer_style</th>\n",
       "      <th>altbier</th>\n",
       "      <th>american adjunct lager</th>\n",
       "      <th>american amber / red ale</th>\n",
       "      <th>american amber / red lager</th>\n",
       "      <th>american barleywine</th>\n",
       "      <th>american black ale</th>\n",
       "      <th>american blonde ale</th>\n",
       "      <th>american brown ale</th>\n",
       "      <th>american dark wheat ale</th>\n",
       "      <th>american double / imperial ipa</th>\n",
       "      <th>...</th>\n",
       "      <th>scotch ale / wee heavy</th>\n",
       "      <th>scottish ale</th>\n",
       "      <th>scottish gruit / ancient herbed ale</th>\n",
       "      <th>smoked beer</th>\n",
       "      <th>tripel</th>\n",
       "      <th>vienna lager</th>\n",
       "      <th>weizenbock</th>\n",
       "      <th>wheatwine</th>\n",
       "      <th>winter warmer</th>\n",
       "      <th>witbier</th>\n",
       "    </tr>\n",
       "    <tr>\n",
       "      <th>beer_style</th>\n",
       "      <th></th>\n",
       "      <th></th>\n",
       "      <th></th>\n",
       "      <th></th>\n",
       "      <th></th>\n",
       "      <th></th>\n",
       "      <th></th>\n",
       "      <th></th>\n",
       "      <th></th>\n",
       "      <th></th>\n",
       "      <th></th>\n",
       "      <th></th>\n",
       "      <th></th>\n",
       "      <th></th>\n",
       "      <th></th>\n",
       "      <th></th>\n",
       "      <th></th>\n",
       "      <th></th>\n",
       "      <th></th>\n",
       "      <th></th>\n",
       "      <th></th>\n",
       "    </tr>\n",
       "  </thead>\n",
       "  <tbody>\n",
       "    <tr>\n",
       "      <th>altbier</th>\n",
       "      <td>0.000000</td>\n",
       "      <td>0.920263</td>\n",
       "      <td>0.954301</td>\n",
       "      <td>0.991993</td>\n",
       "      <td>0.929122</td>\n",
       "      <td>0.984699</td>\n",
       "      <td>0.945842</td>\n",
       "      <td>0.935281</td>\n",
       "      <td>0.934137</td>\n",
       "      <td>0.939692</td>\n",
       "      <td>...</td>\n",
       "      <td>0.983389</td>\n",
       "      <td>0.960744</td>\n",
       "      <td>0.975973</td>\n",
       "      <td>1.000000</td>\n",
       "      <td>0.934868</td>\n",
       "      <td>0.941281</td>\n",
       "      <td>0.971684</td>\n",
       "      <td>0.973255</td>\n",
       "      <td>0.959657</td>\n",
       "      <td>0.990265</td>\n",
       "    </tr>\n",
       "    <tr>\n",
       "      <th>american adjunct lager</th>\n",
       "      <td>0.920263</td>\n",
       "      <td>0.000000</td>\n",
       "      <td>0.905775</td>\n",
       "      <td>0.970230</td>\n",
       "      <td>0.932784</td>\n",
       "      <td>0.986575</td>\n",
       "      <td>0.923783</td>\n",
       "      <td>0.954219</td>\n",
       "      <td>0.959886</td>\n",
       "      <td>0.931694</td>\n",
       "      <td>...</td>\n",
       "      <td>0.968508</td>\n",
       "      <td>0.952755</td>\n",
       "      <td>0.990762</td>\n",
       "      <td>0.977710</td>\n",
       "      <td>0.939943</td>\n",
       "      <td>0.926736</td>\n",
       "      <td>0.944149</td>\n",
       "      <td>0.983389</td>\n",
       "      <td>0.972527</td>\n",
       "      <td>0.944287</td>\n",
       "    </tr>\n",
       "    <tr>\n",
       "      <th>american amber / red ale</th>\n",
       "      <td>0.954301</td>\n",
       "      <td>0.905775</td>\n",
       "      <td>0.000000</td>\n",
       "      <td>0.938177</td>\n",
       "      <td>0.922423</td>\n",
       "      <td>0.962319</td>\n",
       "      <td>0.954353</td>\n",
       "      <td>0.914668</td>\n",
       "      <td>0.965522</td>\n",
       "      <td>0.892577</td>\n",
       "      <td>...</td>\n",
       "      <td>0.913298</td>\n",
       "      <td>0.941392</td>\n",
       "      <td>0.973809</td>\n",
       "      <td>0.966674</td>\n",
       "      <td>0.935454</td>\n",
       "      <td>0.939530</td>\n",
       "      <td>0.958945</td>\n",
       "      <td>0.965380</td>\n",
       "      <td>0.913928</td>\n",
       "      <td>0.924749</td>\n",
       "    </tr>\n",
       "    <tr>\n",
       "      <th>american amber / red lager</th>\n",
       "      <td>0.991993</td>\n",
       "      <td>0.970230</td>\n",
       "      <td>0.938177</td>\n",
       "      <td>0.000000</td>\n",
       "      <td>0.970851</td>\n",
       "      <td>0.952379</td>\n",
       "      <td>1.000000</td>\n",
       "      <td>0.986713</td>\n",
       "      <td>1.000000</td>\n",
       "      <td>0.931865</td>\n",
       "      <td>...</td>\n",
       "      <td>0.984845</td>\n",
       "      <td>0.988659</td>\n",
       "      <td>0.999332</td>\n",
       "      <td>0.949468</td>\n",
       "      <td>0.972597</td>\n",
       "      <td>0.934050</td>\n",
       "      <td>0.997821</td>\n",
       "      <td>1.000000</td>\n",
       "      <td>0.977289</td>\n",
       "      <td>0.979507</td>\n",
       "    </tr>\n",
       "    <tr>\n",
       "      <th>american barleywine</th>\n",
       "      <td>0.929122</td>\n",
       "      <td>0.932784</td>\n",
       "      <td>0.922423</td>\n",
       "      <td>0.970851</td>\n",
       "      <td>0.000000</td>\n",
       "      <td>0.970983</td>\n",
       "      <td>0.960687</td>\n",
       "      <td>0.935991</td>\n",
       "      <td>0.978168</td>\n",
       "      <td>0.885797</td>\n",
       "      <td>...</td>\n",
       "      <td>0.923289</td>\n",
       "      <td>0.961533</td>\n",
       "      <td>0.997864</td>\n",
       "      <td>1.000000</td>\n",
       "      <td>0.922897</td>\n",
       "      <td>0.948042</td>\n",
       "      <td>0.956584</td>\n",
       "      <td>0.944326</td>\n",
       "      <td>0.953462</td>\n",
       "      <td>0.946632</td>\n",
       "    </tr>\n",
       "  </tbody>\n",
       "</table>\n",
       "<p>5 rows × 104 columns</p>\n",
       "</div>"
      ],
      "text/plain": [
       "beer_style                   altbier  american adjunct lager  \\\n",
       "beer_style                                                     \n",
       "altbier                     0.000000                0.920263   \n",
       "american adjunct lager      0.920263                0.000000   \n",
       "american amber / red ale    0.954301                0.905775   \n",
       "american amber / red lager  0.991993                0.970230   \n",
       "american barleywine         0.929122                0.932784   \n",
       "\n",
       "beer_style                  american amber / red ale  \\\n",
       "beer_style                                             \n",
       "altbier                                     0.954301   \n",
       "american adjunct lager                      0.905775   \n",
       "american amber / red ale                    0.000000   \n",
       "american amber / red lager                  0.938177   \n",
       "american barleywine                         0.922423   \n",
       "\n",
       "beer_style                  american amber / red lager  american barleywine  \\\n",
       "beer_style                                                                    \n",
       "altbier                                       0.991993             0.929122   \n",
       "american adjunct lager                        0.970230             0.932784   \n",
       "american amber / red ale                      0.938177             0.922423   \n",
       "american amber / red lager                    0.000000             0.970851   \n",
       "american barleywine                           0.970851             0.000000   \n",
       "\n",
       "beer_style                  american black ale  american blonde ale  \\\n",
       "beer_style                                                            \n",
       "altbier                               0.984699             0.945842   \n",
       "american adjunct lager                0.986575             0.923783   \n",
       "american amber / red ale              0.962319             0.954353   \n",
       "american amber / red lager            0.952379             1.000000   \n",
       "american barleywine                   0.970983             0.960687   \n",
       "\n",
       "beer_style                  american brown ale  american dark wheat ale  \\\n",
       "beer_style                                                                \n",
       "altbier                               0.935281                 0.934137   \n",
       "american adjunct lager                0.954219                 0.959886   \n",
       "american amber / red ale              0.914668                 0.965522   \n",
       "american amber / red lager            0.986713                 1.000000   \n",
       "american barleywine                   0.935991                 0.978168   \n",
       "\n",
       "beer_style                  american double / imperial ipa  ...  \\\n",
       "beer_style                                                  ...   \n",
       "altbier                                           0.939692  ...   \n",
       "american adjunct lager                            0.931694  ...   \n",
       "american amber / red ale                          0.892577  ...   \n",
       "american amber / red lager                        0.931865  ...   \n",
       "american barleywine                               0.885797  ...   \n",
       "\n",
       "beer_style                  scotch ale / wee heavy  scottish ale  \\\n",
       "beer_style                                                         \n",
       "altbier                                   0.983389      0.960744   \n",
       "american adjunct lager                    0.968508      0.952755   \n",
       "american amber / red ale                  0.913298      0.941392   \n",
       "american amber / red lager                0.984845      0.988659   \n",
       "american barleywine                       0.923289      0.961533   \n",
       "\n",
       "beer_style                  scottish gruit / ancient herbed ale  smoked beer  \\\n",
       "beer_style                                                                     \n",
       "altbier                                                0.975973     1.000000   \n",
       "american adjunct lager                                 0.990762     0.977710   \n",
       "american amber / red ale                               0.973809     0.966674   \n",
       "american amber / red lager                             0.999332     0.949468   \n",
       "american barleywine                                    0.997864     1.000000   \n",
       "\n",
       "beer_style                    tripel  vienna lager  weizenbock  wheatwine  \\\n",
       "beer_style                                                                  \n",
       "altbier                     0.934868      0.941281    0.971684   0.973255   \n",
       "american adjunct lager      0.939943      0.926736    0.944149   0.983389   \n",
       "american amber / red ale    0.935454      0.939530    0.958945   0.965380   \n",
       "american amber / red lager  0.972597      0.934050    0.997821   1.000000   \n",
       "american barleywine         0.922897      0.948042    0.956584   0.944326   \n",
       "\n",
       "beer_style                  winter warmer   witbier  \n",
       "beer_style                                           \n",
       "altbier                          0.959657  0.990265  \n",
       "american adjunct lager           0.972527  0.944287  \n",
       "american amber / red ale         0.913928  0.924749  \n",
       "american amber / red lager       0.977289  0.979507  \n",
       "american barleywine              0.953462  0.946632  \n",
       "\n",
       "[5 rows x 104 columns]"
      ]
     },
     "execution_count": 46,
     "metadata": {},
     "output_type": "execute_result"
    }
   ],
   "source": [
    "recommender_df = pd.DataFrame(recommender, \n",
    "                              index=pivot.index,\n",
    "                             columns=pivot.index)\n",
    "recommender_df.head()"
   ]
  },
  {
   "cell_type": "code",
   "execution_count": 51,
   "metadata": {},
   "outputs": [
    {
     "data": {
      "text/plain": [
       "beer_style\n",
       "german pilsener             0.881195\n",
       "euro pale lager             0.892471\n",
       "american pale lager         0.901628\n",
       "american amber / red ale    0.905775\n",
       "hefeweizen                  0.909173\n",
       "english pale ale            0.911880\n",
       "belgian strong pale ale     0.912321\n",
       "american ipa                0.913619\n",
       "english barleywine          0.914598\n",
       "kvass                       0.914614\n",
       "Name: american adjunct lager, dtype: float64"
      ]
     },
     "execution_count": 51,
     "metadata": {},
     "output_type": "execute_result"
    }
   ],
   "source": [
    "#Case sensitive-- need to change to not make it case sensitive\n",
    "recommender_df['american adjunct lager'].sort_values()[1:11]"
   ]
  },
  {
   "cell_type": "code",
   "execution_count": 66,
   "metadata": {},
   "outputs": [
    {
     "name": "stdout",
     "output_type": "stream",
     "text": [
      "Enter a Beer Style sap\n"
     ]
    }
   ],
   "source": [
    "q = str(input(\"Enter a Beer Style \"))\n",
    "\n",
    "# def recommender(beer)\n",
    "def recommender(search, recommender_df, beerlist=km_df['beer_style']):\n",
    "    \n",
    "    search = search.lower()\n",
    "    beerlist = [beer.lower() for beer in beerlist]\n",
    "    \n",
    "    sublist = []\n",
    "    \n",
    "    for item in beerlist:\n",
    "        try:\n",
    "            if item.index(search) >= 0:\n",
    "                sublist.append(item)\n",
    "        except:\n",
    "            continue\n",
    "    \n",
    "    for i in sublist:\n",
    "        print(i)\n",
    "        print(\"\")\n",
    "        print('10 closest beers:')\n",
    "        print(\"\")\n",
    "        print(recommender_df.loc[i.lower()].sort_values()[1:6])\n",
    "        print('')\n",
    "        print(\"\")\n",
    "    else: \n",
    "        print('Sorry, Try Another Selection')\n",
    "\n",
    "\n",
    "# q = 'Belgian Strong Pale Ale'\n",
    "# beers = km_df[km_df['beer_style'].str.contains(q)]['beer_style']\n",
    "# beer_style = km_df['beer_style']\n",
    "\n",
    "# for beer in beers:\n",
    "#     print(beer_style)\n",
    "#     print()\n",
    "#     print(recommender_df[beer_style].sort_values(by=km_df['km_labels'])[1:11])\n",
    "#     print('---------------------------------------------------------')\n",
    "#     print()"
   ]
  },
  {
   "cell_type": "code",
   "execution_count": 67,
   "metadata": {},
   "outputs": [
    {
     "name": "stdout",
     "output_type": "stream",
     "text": [
      "Sorry, Try Another Selection\n"
     ]
    }
   ],
   "source": [
    "recommender(q, recommender_df)\n"
   ]
  },
  {
   "cell_type": "code",
   "execution_count": 43,
   "metadata": {},
   "outputs": [],
   "source": [
    "#the more heavily rated items are going to be more \n",
    "#relevant -- in recommenders\n",
    "q = 'American Pale Lager '\n",
    "# beer_style = data['beer_style']\n",
    "beers = data[data['beer_style'].str.contains(q)]['beer_style']\n",
    "\n",
    "for beer in beers:\n",
    "    print(beer_style)\n",
    "    print()\n",
    "    #added line to see the count (of how many people rated)\n",
    "    print(data[data['beer_style'] == beer_style].shape[0])\n",
    "    #starts count from 2nd movie to 10\n",
    "    print(data[beer_style].sort_values()[1:11])\n",
    "    print('---------------------------------------------------------')\n",
    "    print()"
   ]
  },
  {
   "cell_type": "code",
   "execution_count": null,
   "metadata": {},
   "outputs": [],
   "source": []
  }
 ],
 "metadata": {
  "kernelspec": {
   "display_name": "Python 3",
   "language": "python",
   "name": "python3"
  },
  "language_info": {
   "codemirror_mode": {
    "name": "ipython",
    "version": 3
   },
   "file_extension": ".py",
   "mimetype": "text/x-python",
   "name": "python",
   "nbconvert_exporter": "python",
   "pygments_lexer": "ipython3",
   "version": "3.8.3"
  }
 },
 "nbformat": 4,
 "nbformat_minor": 4
}
