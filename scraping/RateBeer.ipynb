{
 "cells": [
  {
   "cell_type": "code",
   "execution_count": 6,
   "metadata": {},
   "outputs": [],
   "source": [
    "from selenium.webdriver import Chrome\n",
    "from selenium import webdriver\n",
    "from selenium.webdriver.chrome.options import Options\n",
    "from time import sleep\n",
    "from bs4 import BeautifulSoup\n",
    "import pandas as pd"
   ]
  },
  {
   "cell_type": "code",
   "execution_count": 13,
   "metadata": {},
   "outputs": [],
   "source": [
    "options = Options()\n",
    "options.headless = True\n",
    "options = webdriver.ChromeOptions()\n",
    "options.add_argument(\"--incognito\")\n",
    "driver = webdriver.Chrome(executable_path='./chromedriver/macos/chromedriver', options=options)\n",
    "#driver = webdriver.Chrome(executable_path='./chromedriver/macos/chromedriver')"
   ]
  },
  {
   "cell_type": "code",
   "execution_count": null,
   "metadata": {},
   "outputs": [],
   "source": [
    "# url = ''"
   ]
  },
  {
   "cell_type": "code",
   "execution_count": null,
   "metadata": {},
   "outputs": [],
   "source": [
    "# email = 'admin@phptravels.com'\n",
    "# password = 'demoadmin'"
   ]
  },
  {
   "cell_type": "code",
   "execution_count": null,
   "metadata": {},
   "outputs": [],
   "source": [
    "driver.get(url)"
   ]
  },
  {
   "cell_type": "code",
   "execution_count": null,
   "metadata": {},
   "outputs": [],
   "source": [
    "# email_field = driver.find_element_by_name(\"email\")\n",
    "# email_field.send_keys(email)\n",
    "# # set sleep to create delays to the next code\n",
    "# sleep(2)"
   ]
  },
  {
   "cell_type": "code",
   "execution_count": null,
   "metadata": {},
   "outputs": [],
   "source": [
    "# password_field = driver.find_element_by_name(\"password\")\n",
    "# password_field.send_keys(password)\n",
    "# # set sleep to create delays to the next code\n",
    "# sleep(2)"
   ]
  },
  {
   "cell_type": "code",
   "execution_count": 14,
   "metadata": {},
   "outputs": [],
   "source": [
    "# login_btn = driver.find_element_by_class_name(\"ladda-label\")\n",
    "# login_btn.click()\n",
    "# # Wait to logging in \n",
    "# # without this sleep, you will fetch pre-login page as your page_source below\n",
    "# sleep(3)"
   ]
  },
  {
   "cell_type": "code",
   "execution_count": null,
   "metadata": {},
   "outputs": [],
   "source": [
    "url = 'https://www.ratebeer.com/breweries/virginia/46/213/'"
   ]
  },
  {
   "cell_type": "code",
   "execution_count": null,
   "metadata": {},
   "outputs": [],
   "source": [
    "driver.get(url)"
   ]
  },
  {
   "cell_type": "code",
   "execution_count": null,
   "metadata": {},
   "outputs": [],
   "source": [
    "html = driver.page_source\n",
    "# Beautiful Soup it!\n",
    "html = BeautifulSoup(html, 'lxml')"
   ]
  },
  {
   "cell_type": "code",
   "execution_count": null,
   "metadata": {},
   "outputs": [],
   "source": [
    "table = html.find('table', {'class': 'xcrud-list table table-striped table-hover'})"
   ]
  },
  {
   "cell_type": "code",
   "execution_count": null,
   "metadata": {},
   "outputs": [],
   "source": [
    "table.find_all('th', {'class': 'xcrud-column xcrud-action'})"
   ]
  },
  {
   "cell_type": "code",
   "execution_count": null,
   "metadata": {},
   "outputs": [],
   "source": [
    "cols = []\n",
    "beers = []\n",
    "# Set the column names \n",
    "for col in table.find_all('th', {'class': 'xcrud-column xcrud-action'}):\n",
    "    cols.append(col.text)\n",
    "print(\"Column names: \", cols)\n",
    "# Fetch table contents\n",
    "for row in table.find('tbody').find_all('tr'):\n",
    "    cells = row.find_all('td')\n",
    "    # Start with an empty travel dictionary\n",
    "    beer = {}\n",
    "    # Add values from our cells\n",
    "    beer['Ref No.'] = cells[3].text    \n",
    "    beer['Customer'] = cells[4].text\n",
    "    beer['Module'] = cells[5].text\n",
    "    beer['Date'] = cells[6].text\n",
    "    beer['Total'] = cells[7].text\n",
    "    beer['Paid'] = cells[8].text\n",
    "    beer['Remaining'] = cells[9].text\n",
    "    beer['Status'] = cells[10].text\n",
    "    #Add the travel dictionary to the list of travels\n",
    "    beers.append(beer)"
   ]
  },
  {
   "cell_type": "code",
   "execution_count": null,
   "metadata": {},
   "outputs": [],
   "source": [
    "df = pd.DataFrame(travels, columns=cols)\n",
    "df.head()"
   ]
  },
  {
   "cell_type": "code",
   "execution_count": null,
   "metadata": {},
   "outputs": [],
   "source": []
  }
 ],
 "metadata": {
  "kernelspec": {
   "display_name": "Python 3",
   "language": "python",
   "name": "python3"
  },
  "language_info": {
   "codemirror_mode": {
    "name": "ipython",
    "version": 3
   },
   "file_extension": ".py",
   "mimetype": "text/x-python",
   "name": "python",
   "nbconvert_exporter": "python",
   "pygments_lexer": "ipython3",
   "version": "3.7.4"
  }
 },
 "nbformat": 4,
 "nbformat_minor": 2
}
