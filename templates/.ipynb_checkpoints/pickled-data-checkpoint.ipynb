{
 "cells": [
  {
   "cell_type": "markdown",
   "metadata": {},
   "source": [
    "# <center>Pickeling Data</center>"
   ]
  },
  {
   "cell_type": "code",
   "execution_count": 2,
   "metadata": {},
   "outputs": [],
   "source": [
    "import pickle\n",
    "\n",
    "import pandas as pd, numpy as np\n",
    "from sklearn.linear_model import LinearRegression"
   ]
  },
  {
   "cell_type": "code",
   "execution_count": 5,
   "metadata": {},
   "outputs": [
    {
     "data": {
      "text/html": [
       "<div>\n",
       "<style scoped>\n",
       "    .dataframe tbody tr th:only-of-type {\n",
       "        vertical-align: middle;\n",
       "    }\n",
       "\n",
       "    .dataframe tbody tr th {\n",
       "        vertical-align: top;\n",
       "    }\n",
       "\n",
       "    .dataframe thead th {\n",
       "        text-align: right;\n",
       "    }\n",
       "</style>\n",
       "<table border=\"1\" class=\"dataframe\">\n",
       "  <thead>\n",
       "    <tr style=\"text-align: right;\">\n",
       "      <th></th>\n",
       "      <th>review_profilename</th>\n",
       "      <th>beer_beerid</th>\n",
       "      <th>beer_name</th>\n",
       "      <th>beer_abv</th>\n",
       "      <th>beer_style</th>\n",
       "      <th>review_overall</th>\n",
       "      <th>review_aroma</th>\n",
       "      <th>review_appearance</th>\n",
       "      <th>review_palate</th>\n",
       "      <th>review_taste</th>\n",
       "      <th>km_labels</th>\n",
       "    </tr>\n",
       "  </thead>\n",
       "  <tbody>\n",
       "    <tr>\n",
       "      <th>0</th>\n",
       "      <td>Nibbley</td>\n",
       "      <td>776</td>\n",
       "      <td>Samichlaus Bier</td>\n",
       "      <td>14.0</td>\n",
       "      <td>Doppelbock</td>\n",
       "      <td>5.0</td>\n",
       "      <td>5.0</td>\n",
       "      <td>5.0</td>\n",
       "      <td>5.0</td>\n",
       "      <td>5.0</td>\n",
       "      <td>1</td>\n",
       "    </tr>\n",
       "  </tbody>\n",
       "</table>\n",
       "</div>"
      ],
      "text/plain": [
       "  review_profilename  beer_beerid        beer_name  beer_abv  beer_style  \\\n",
       "0            Nibbley          776  Samichlaus Bier      14.0  Doppelbock   \n",
       "\n",
       "   review_overall  review_aroma  review_appearance  review_palate  \\\n",
       "0             5.0           5.0                5.0            5.0   \n",
       "\n",
       "   review_taste  km_labels  \n",
       "0           5.0          1  "
      ]
     },
     "execution_count": 5,
     "metadata": {},
     "output_type": "execute_result"
    }
   ],
   "source": [
    "# read in the data\n",
    "df = pd.read_csv('../data/km_data.csv')\n",
    "df.head(1)"
   ]
  },
  {
   "cell_type": "code",
   "execution_count": 6,
   "metadata": {},
   "outputs": [
    {
     "name": "stdout",
     "output_type": "stream",
     "text": [
      "The model explains 5.52% of the variance\n",
      "-----\n",
      "Coefficients:\n",
      "{'review_overall': 0.429, 'review_aroma': -1.2534, 'review_appearance': 0.4947, 'review_palate': -0.3767, 'review_taste': 0.0662}\n"
     ]
    }
   ],
   "source": [
    "# pick some columns, drop the nulls.\n",
    "good_cols = ['review_overall',\n",
    "             'review_aroma',\n",
    "             'review_appearance',\n",
    "             'review_palate',\n",
    "             'review_taste']\n",
    "df.dropna(subset=good_cols, inplace=True)\n",
    "\n",
    "# set up feature matrix and target vector\n",
    "X = df[good_cols]\n",
    "y = df['km_labels']\n",
    "\n",
    "# instantiate the model\n",
    "model_to_be_pickled = LinearRegression()\n",
    "\n",
    "# fit the model\n",
    "model_to_be_pickled.fit(X,y)\n",
    "\n",
    "# print out the score and coefficients\n",
    "print(f'The model explains {100*model_to_be_pickled.score(X,y):.2f}% of the variance' + '\\n-----\\n' + 'Coefficients:')\n",
    "print(dict(zip(list(X.columns), np.round(model_to_be_pickled.coef_, 4))))"
   ]
  },
  {
   "cell_type": "code",
   "execution_count": 7,
   "metadata": {},
   "outputs": [],
   "source": [
    "# put the two functions above together, using 'write binary' permissions\n",
    "pickle.dump(model_to_be_pickled, open('model.p', 'wb'))"
   ]
  },
  {
   "cell_type": "code",
   "execution_count": 8,
   "metadata": {},
   "outputs": [
    {
     "name": "stdout",
     "output_type": "stream",
     "text": [
      "The model explains 5.52% of the variance\n",
      "-----\n",
      "Coefficients:\n",
      "{'review_overall': 0.429, 'review_aroma': -1.2534, 'review_appearance': 0.4947, 'review_palate': -0.3767, 'review_taste': 0.0662}\n"
     ]
    }
   ],
   "source": [
    "# use the above function with open() and 'read binary' permissions to get our model back\n",
    "model_that_was_pickled = pickle.load(open('model.p', 'rb'))\n",
    "\n",
    "print(f'The model explains {100*model_that_was_pickled.score(X,y):.2f}% of the variance' + '\\n-----\\n' + 'Coefficients:')\n",
    "print(dict(zip(list(X.columns), np.round(model_that_was_pickled.coef_, 4))))"
   ]
  },
  {
   "cell_type": "code",
   "execution_count": null,
   "metadata": {},
   "outputs": [],
   "source": []
  }
 ],
 "metadata": {
  "kernelspec": {
   "display_name": "Python 3",
   "language": "python",
   "name": "python3"
  },
  "language_info": {
   "codemirror_mode": {
    "name": "ipython",
    "version": 3
   },
   "file_extension": ".py",
   "mimetype": "text/x-python",
   "name": "python",
   "nbconvert_exporter": "python",
   "pygments_lexer": "ipython3",
   "version": "3.8.3"
  }
 },
 "nbformat": 4,
 "nbformat_minor": 4
}
